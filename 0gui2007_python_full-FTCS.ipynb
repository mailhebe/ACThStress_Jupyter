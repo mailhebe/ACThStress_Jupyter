{
 "cells": [
  {
   "cell_type": "markdown",
   "id": "8ade9d9a",
   "metadata": {},
   "source": [
    "# Call libraries "
   ]
  },
  {
   "cell_type": "code",
   "execution_count": 1,
   "id": "6c49d82a",
   "metadata": {},
   "outputs": [],
   "source": [
    "import copy\n",
    "import math\n",
    "import cmath\n",
    "import numpy as np\n",
    "import pandas as pd\n",
    "from scipy.optimize import curve_fit\n",
    "import matplotlib.pyplot as plt\n",
    "#import matplotlib as mpl\n",
    "\n",
    "%matplotlib inline\n",
    "#%matplotlib nbagg\n",
    "\n",
    "from func import paramin, indexin"
   ]
  },
  {
   "cell_type": "markdown",
   "id": "31021ce2",
   "metadata": {},
   "source": [
    "# Input from excel file"
   ]
  },
  {
   "cell_type": "raw",
   "id": "b13a71fc",
   "metadata": {},
   "source": [
    "days_to_compute=0\n",
    "k=0\n",
    "\n",
    "while days_to_compute<1 or days_to_compute>3:\n",
    "    if k!=0: print('\\nPlease enter an integer between 1 and 3!')\n",
    "    k+=1\n",
    "    days_to_compute=indexin('\\nHow many days would you like to compute? [1-3]\\nAnswer = ')"
   ]
  },
  {
   "cell_type": "code",
   "execution_count": 2,
   "id": "a11bb750",
   "metadata": {},
   "outputs": [],
   "source": [
    "days_to_compute = 3\n",
    "\n",
    "test=[*range(0,days_to_compute)]\n",
    "weather_data=pd.read_excel('weather.xlsx',sheet_name=test,header=0)"
   ]
  },
  {
   "cell_type": "code",
   "execution_count": 3,
   "id": "207ff68e",
   "metadata": {},
   "outputs": [
    {
     "data": {
      "text/plain": [
       "dict_keys([0, 1, 2])"
      ]
     },
     "execution_count": 3,
     "metadata": {},
     "output_type": "execute_result"
    }
   ],
   "source": [
    "weather_data.keys()"
   ]
  },
  {
   "cell_type": "code",
   "execution_count": 4,
   "id": "9874911f",
   "metadata": {},
   "outputs": [
    {
     "data": {
      "text/plain": [
       "Index(['Time [h]', 'Tatm [ºC]', 'DewPoint [ºF]', 'SolarRad [W/m²]',\n",
       "       'WindSpeed [mph]'],\n",
       "      dtype='object')"
      ]
     },
     "execution_count": 4,
     "metadata": {},
     "output_type": "execute_result"
    }
   ],
   "source": [
    "weather_data[0].columns"
   ]
  },
  {
   "cell_type": "code",
   "execution_count": 5,
   "id": "7d33dae3",
   "metadata": {},
   "outputs": [
    {
     "data": {
      "text/html": [
       "<div>\n",
       "<style scoped>\n",
       "    .dataframe tbody tr th:only-of-type {\n",
       "        vertical-align: middle;\n",
       "    }\n",
       "\n",
       "    .dataframe tbody tr th {\n",
       "        vertical-align: top;\n",
       "    }\n",
       "\n",
       "    .dataframe thead th {\n",
       "        text-align: right;\n",
       "    }\n",
       "</style>\n",
       "<table border=\"1\" class=\"dataframe\">\n",
       "  <thead>\n",
       "    <tr style=\"text-align: right;\">\n",
       "      <th></th>\n",
       "      <th>Time [h]</th>\n",
       "      <th>Tatm [ºC]</th>\n",
       "      <th>DewPoint [ºF]</th>\n",
       "      <th>SolarRad [W/m²]</th>\n",
       "      <th>WindSpeed [mph]</th>\n",
       "    </tr>\n",
       "  </thead>\n",
       "  <tbody>\n",
       "    <tr>\n",
       "      <th>0</th>\n",
       "      <td>0</td>\n",
       "      <td>22.000000</td>\n",
       "      <td>44.8</td>\n",
       "      <td>0.000000</td>\n",
       "      <td>0.0</td>\n",
       "    </tr>\n",
       "    <tr>\n",
       "      <th>1</th>\n",
       "      <td>1</td>\n",
       "      <td>20.500000</td>\n",
       "      <td>49.1</td>\n",
       "      <td>0.000000</td>\n",
       "      <td>0.0</td>\n",
       "    </tr>\n",
       "    <tr>\n",
       "      <th>2</th>\n",
       "      <td>2</td>\n",
       "      <td>20.888889</td>\n",
       "      <td>44.8</td>\n",
       "      <td>0.000000</td>\n",
       "      <td>0.0</td>\n",
       "    </tr>\n",
       "    <tr>\n",
       "      <th>3</th>\n",
       "      <td>3</td>\n",
       "      <td>19.611111</td>\n",
       "      <td>43.9</td>\n",
       "      <td>0.000000</td>\n",
       "      <td>0.0</td>\n",
       "    </tr>\n",
       "    <tr>\n",
       "      <th>4</th>\n",
       "      <td>4</td>\n",
       "      <td>18.611111</td>\n",
       "      <td>44.2</td>\n",
       "      <td>0.000000</td>\n",
       "      <td>0.0</td>\n",
       "    </tr>\n",
       "    <tr>\n",
       "      <th>5</th>\n",
       "      <td>5</td>\n",
       "      <td>18.388889</td>\n",
       "      <td>42.1</td>\n",
       "      <td>27.892000</td>\n",
       "      <td>0.0</td>\n",
       "    </tr>\n",
       "    <tr>\n",
       "      <th>6</th>\n",
       "      <td>6</td>\n",
       "      <td>22.611111</td>\n",
       "      <td>44.1</td>\n",
       "      <td>185.946667</td>\n",
       "      <td>0.2</td>\n",
       "    </tr>\n",
       "    <tr>\n",
       "      <th>7</th>\n",
       "      <td>7</td>\n",
       "      <td>28.111111</td>\n",
       "      <td>36.7</td>\n",
       "      <td>393.974500</td>\n",
       "      <td>0.2</td>\n",
       "    </tr>\n",
       "    <tr>\n",
       "      <th>8</th>\n",
       "      <td>8</td>\n",
       "      <td>31.277778</td>\n",
       "      <td>32.2</td>\n",
       "      <td>593.867167</td>\n",
       "      <td>0.9</td>\n",
       "    </tr>\n",
       "    <tr>\n",
       "      <th>9</th>\n",
       "      <td>9</td>\n",
       "      <td>33.277778</td>\n",
       "      <td>28.0</td>\n",
       "      <td>771.678667</td>\n",
       "      <td>2.7</td>\n",
       "    </tr>\n",
       "    <tr>\n",
       "      <th>10</th>\n",
       "      <td>10</td>\n",
       "      <td>35.388889</td>\n",
       "      <td>27.0</td>\n",
       "      <td>911.138667</td>\n",
       "      <td>2.2</td>\n",
       "    </tr>\n",
       "    <tr>\n",
       "      <th>11</th>\n",
       "      <td>11</td>\n",
       "      <td>37.500000</td>\n",
       "      <td>24.4</td>\n",
       "      <td>999.463333</td>\n",
       "      <td>0.4</td>\n",
       "    </tr>\n",
       "    <tr>\n",
       "      <th>12</th>\n",
       "      <td>12</td>\n",
       "      <td>38.500000</td>\n",
       "      <td>25.0</td>\n",
       "      <td>1025.031000</td>\n",
       "      <td>1.1</td>\n",
       "    </tr>\n",
       "    <tr>\n",
       "      <th>13</th>\n",
       "      <td>13</td>\n",
       "      <td>39.611111</td>\n",
       "      <td>25.5</td>\n",
       "      <td>989.003833</td>\n",
       "      <td>3.4</td>\n",
       "    </tr>\n",
       "    <tr>\n",
       "      <th>14</th>\n",
       "      <td>14</td>\n",
       "      <td>40.722222</td>\n",
       "      <td>21.7</td>\n",
       "      <td>893.706167</td>\n",
       "      <td>4.0</td>\n",
       "    </tr>\n",
       "    <tr>\n",
       "      <th>15</th>\n",
       "      <td>15</td>\n",
       "      <td>41.222222</td>\n",
       "      <td>21.0</td>\n",
       "      <td>757.732667</td>\n",
       "      <td>2.7</td>\n",
       "    </tr>\n",
       "    <tr>\n",
       "      <th>16</th>\n",
       "      <td>16</td>\n",
       "      <td>41.611111</td>\n",
       "      <td>19.2</td>\n",
       "      <td>583.407667</td>\n",
       "      <td>3.6</td>\n",
       "    </tr>\n",
       "    <tr>\n",
       "      <th>17</th>\n",
       "      <td>17</td>\n",
       "      <td>41.388889</td>\n",
       "      <td>17.8</td>\n",
       "      <td>383.515000</td>\n",
       "      <td>3.8</td>\n",
       "    </tr>\n",
       "    <tr>\n",
       "      <th>18</th>\n",
       "      <td>18</td>\n",
       "      <td>40.777778</td>\n",
       "      <td>14.9</td>\n",
       "      <td>169.676333</td>\n",
       "      <td>2.7</td>\n",
       "    </tr>\n",
       "    <tr>\n",
       "      <th>19</th>\n",
       "      <td>19</td>\n",
       "      <td>37.722222</td>\n",
       "      <td>23.2</td>\n",
       "      <td>22.081167</td>\n",
       "      <td>1.1</td>\n",
       "    </tr>\n",
       "    <tr>\n",
       "      <th>20</th>\n",
       "      <td>20</td>\n",
       "      <td>31.111111</td>\n",
       "      <td>38.3</td>\n",
       "      <td>0.000000</td>\n",
       "      <td>0.0</td>\n",
       "    </tr>\n",
       "    <tr>\n",
       "      <th>21</th>\n",
       "      <td>21</td>\n",
       "      <td>26.611111</td>\n",
       "      <td>44.6</td>\n",
       "      <td>0.000000</td>\n",
       "      <td>0.0</td>\n",
       "    </tr>\n",
       "    <tr>\n",
       "      <th>22</th>\n",
       "      <td>22</td>\n",
       "      <td>26.611111</td>\n",
       "      <td>45.0</td>\n",
       "      <td>0.000000</td>\n",
       "      <td>0.0</td>\n",
       "    </tr>\n",
       "    <tr>\n",
       "      <th>23</th>\n",
       "      <td>23</td>\n",
       "      <td>25.722222</td>\n",
       "      <td>46.4</td>\n",
       "      <td>0.000000</td>\n",
       "      <td>0.2</td>\n",
       "    </tr>\n",
       "    <tr>\n",
       "      <th>24</th>\n",
       "      <td>24</td>\n",
       "      <td>22.000000</td>\n",
       "      <td>46.4</td>\n",
       "      <td>0.000000</td>\n",
       "      <td>0.0</td>\n",
       "    </tr>\n",
       "  </tbody>\n",
       "</table>\n",
       "</div>"
      ],
      "text/plain": [
       "    Time [h]  Tatm [ºC]  DewPoint [ºF]  SolarRad [W/m²]  WindSpeed [mph]\n",
       "0          0  22.000000           44.8         0.000000              0.0\n",
       "1          1  20.500000           49.1         0.000000              0.0\n",
       "2          2  20.888889           44.8         0.000000              0.0\n",
       "3          3  19.611111           43.9         0.000000              0.0\n",
       "4          4  18.611111           44.2         0.000000              0.0\n",
       "5          5  18.388889           42.1        27.892000              0.0\n",
       "6          6  22.611111           44.1       185.946667              0.2\n",
       "7          7  28.111111           36.7       393.974500              0.2\n",
       "8          8  31.277778           32.2       593.867167              0.9\n",
       "9          9  33.277778           28.0       771.678667              2.7\n",
       "10        10  35.388889           27.0       911.138667              2.2\n",
       "11        11  37.500000           24.4       999.463333              0.4\n",
       "12        12  38.500000           25.0      1025.031000              1.1\n",
       "13        13  39.611111           25.5       989.003833              3.4\n",
       "14        14  40.722222           21.7       893.706167              4.0\n",
       "15        15  41.222222           21.0       757.732667              2.7\n",
       "16        16  41.611111           19.2       583.407667              3.6\n",
       "17        17  41.388889           17.8       383.515000              3.8\n",
       "18        18  40.777778           14.9       169.676333              2.7\n",
       "19        19  37.722222           23.2        22.081167              1.1\n",
       "20        20  31.111111           38.3         0.000000              0.0\n",
       "21        21  26.611111           44.6         0.000000              0.0\n",
       "22        22  26.611111           45.0         0.000000              0.0\n",
       "23        23  25.722222           46.4         0.000000              0.2\n",
       "24        24  22.000000           46.4         0.000000              0.0"
      ]
     },
     "execution_count": 5,
     "metadata": {},
     "output_type": "execute_result"
    }
   ],
   "source": [
    "weather_data[0]"
   ]
  },
  {
   "cell_type": "markdown",
   "id": "14578d04",
   "metadata": {},
   "source": [
    "# Polynomial cubic fit / wind speed"
   ]
  },
  {
   "cell_type": "code",
   "execution_count": 6,
   "id": "ec0c9024",
   "metadata": {},
   "outputs": [],
   "source": [
    "def wind_cubic(x,a,b,c,d):\n",
    "    cubic_fit=a*(x**3)+b*(x**2)+c*x+d\n",
    "    return cubic_fit\n",
    "\n",
    "wind_param=np.zeros((days_to_compute,4))\n",
    "wind_stderr=np.zeros((days_to_compute,4,4))\n",
    "\n",
    "for i in range(days_to_compute):\n",
    "    wind_param[i,:],wind_stderr[i,:,:]=curve_fit(wind_cubic,weather_data[i]['Time [h]'], \\\n",
    "                                                weather_data[i]['WindSpeed [mph]'])"
   ]
  },
  {
   "cell_type": "code",
   "execution_count": 7,
   "id": "fa1f79ab",
   "metadata": {},
   "outputs": [],
   "source": [
    "wind_approx=np.zeros((days_to_compute,len(weather_data[0]['Time [h]'])))\n",
    "wind_r2=np.zeros((days_to_compute))\n",
    "\n",
    "for i in range(days_to_compute):\n",
    "    wind_approx[i,:] = wind_cubic(weather_data[i]['Time [h]'],*wind_param[i,:])\n",
    "    residuals = weather_data[i]['WindSpeed [mph]']-wind_approx[i,:]\n",
    "    ss_res = np.sum(residuals**2)\n",
    "    ss_tot = np.sum((weather_data[i]['WindSpeed [mph]']-np.mean(weather_data[i]['WindSpeed [mph]']))**2)\n",
    "    wind_r2[i] = 1 - (ss_res / ss_tot)\n",
    "    \n",
    "for i in range(days_to_compute):\n",
    "    for t in range(len(wind_approx[i,:])):\n",
    "        if wind_approx[i,t]<0: wind_approx[i,t]=0"
   ]
  },
  {
   "cell_type": "code",
   "execution_count": 8,
   "id": "b85cb893",
   "metadata": {},
   "outputs": [
    {
     "data": {
      "image/png": "[encoded data removed]",
      "text/plain": [
       "<Figure size 432x288 with 1 Axes>"
      ]
     },
     "metadata": {
      "needs_background": "light"
     },
     "output_type": "display_data"
    },
    {
     "name": "stdout",
     "output_type": "stream",
     "text": [
      "Cubic interpolation parameters [a,b,c,d] = [-0.00178688  0.04413618 -0.0740587  -0.16123077]\n"
     ]
    },
    {
     "data": {
      "image/png": "[encoded data removed]",
      "text/plain": [
       "<Figure size 432x288 with 1 Axes>"
      ]
     },
     "metadata": {
      "needs_background": "light"
     },
     "output_type": "display_data"
    },
    {
     "name": "stdout",
     "output_type": "stream",
     "text": [
      "Cubic interpolation parameters [a,b,c,d] = [-0.00437671  0.12637056 -0.62190839  0.50242737]\n"
     ]
    },
    {
     "data": {
      "image/png": "[encoded data removed]",
      "text/plain": [
       "<Figure size 432x288 with 1 Axes>"
      ]
     },
     "metadata": {
      "needs_background": "light"
     },
     "output_type": "display_data"
    },
    {
     "name": "stdout",
     "output_type": "stream",
     "text": [
      "Cubic interpolation parameters [a,b,c,d] = [-0.00365714  0.10203236 -0.33623847  0.40622222]\n"
     ]
    }
   ],
   "source": [
    "for i in range(days_to_compute):\n",
    "    plt.plot(weather_data[i]['Time [h]'],weather_data[i]['WindSpeed [mph]'])\n",
    "    plt.plot(weather_data[i]['Time [h]'],wind_approx[i,:])\n",
    "    plt.title('Wind Chart - Day {}'.format(i+1))\n",
    "    plt.ylabel('Wind Speed [mph]')\n",
    "    plt.xlabel('Time [h]')\n",
    "    plt.legend(['Measured Data','Cubic Approximation'])\n",
    "    plt.text(15,2,'R² = '+str(round(wind_r2[i],3)))\n",
    "    plt.show()\n",
    "    print('Cubic interpolation parameters [a,b,c,d] =',wind_param[i,:])"
   ]
  },
  {
   "cell_type": "markdown",
   "id": "f993ef09",
   "metadata": {},
   "source": [
    "# \"Sewing\" Input"
   ]
  },
  {
   "cell_type": "code",
   "execution_count": 9,
   "id": "e0f092c7",
   "metadata": {},
   "outputs": [],
   "source": [
    "time = np.arange((len(weather_data[0]['Time [h]'])-1)*days_to_compute+1)\n",
    "\n",
    "temp_atm = [weather_data[0]['Tatm [ºC]'][0]]\n",
    "temp_dewpt = [weather_data[0]['DewPoint [ºF]'][0]]\n",
    "solar_rad = [weather_data[0]['SolarRad [W/m²]'][0]]\n",
    "wind_speed = [wind_approx[0,0]]\n",
    "\n",
    "for i in range(days_to_compute):\n",
    "    temp_atm.extend(weather_data[i]['Tatm [ºC]'][1:].tolist())\n",
    "    temp_dewpt.extend(weather_data[i]['DewPoint [ºF]'][1:].tolist())\n",
    "    solar_rad.extend(weather_data[i]['SolarRad [W/m²]'][1:].tolist())\n",
    "    wind_speed.extend(wind_approx[i,1:].tolist())"
   ]
  },
  {
   "cell_type": "code",
   "execution_count": 10,
   "id": "93ee7d0c",
   "metadata": {},
   "outputs": [
    {
     "data": {
      "image/png": "[encoded data removed]",
      "text/plain": [
       "<Figure size 432x288 with 1 Axes>"
      ]
     },
     "metadata": {
      "needs_background": "light"
     },
     "output_type": "display_data"
    }
   ],
   "source": [
    "plt.plot(time,temp_atm)\n",
    "plt.title('Atmospheric Temperature Over '+str(days_to_compute)+' Consecutive Days')\n",
    "plt.xlabel('Time [h]')\n",
    "plt.ylabel('Atmospheric Temperature [ºC]')\n",
    "plt.show()\n",
    "\n",
    "# NOTE : FORCED CONTINUITY == JUMPS AT 12PM-1AM DUE TO DATA SET\n",
    "# Tatm(12PM,day1) =/= Tatm(1AM,day2) WHEN SHOULD BE\n"
   ]
  },
  {
   "cell_type": "code",
   "execution_count": 11,
   "id": "685fb685",
   "metadata": {
    "scrolled": true
   },
   "outputs": [
    {
     "data": {
      "image/png": "[encoded data removed]",
      "text/plain": [
       "<Figure size 432x288 with 1 Axes>"
      ]
     },
     "metadata": {
      "needs_background": "light"
     },
     "output_type": "display_data"
    }
   ],
   "source": [
    "plt.plot(time,wind_speed)\n",
    "plt.title('Wind Chart Over '+str(days_to_compute)+' Consecutive Days')\n",
    "plt.xlabel('Time [h]')\n",
    "plt.ylabel('Wind Speed [mph]')\n",
    "plt.show()\n",
    "\n",
    "# NOTE : SAME AS BEFORE, BUT EVEN WITH GOOD DATA, USING CUBIC POLY CAN\n",
    "#        ALTER THE CONTINUITY ANYWAY\n"
   ]
  },
  {
   "cell_type": "markdown",
   "id": "532b979d",
   "metadata": {},
   "source": [
    "# Linear Interpolation"
   ]
  },
  {
   "cell_type": "code",
   "execution_count": 12,
   "id": "a366d15c",
   "metadata": {},
   "outputs": [],
   "source": [
    "time = np.arange((len(weather_data[0]['Time [h]'])-1)*days_to_compute+1)\n",
    "time_step = 120 # [s]\n",
    "time_sec = time*3600 # [s]\n",
    "time_interp = np.arange(0,time_sec[-1]+time_step,time_step) # [s]\n",
    "\n",
    "temp_atm_interp = np.interp(time_interp,time_sec,temp_atm)\n",
    "temp_dewpt_interp = np.interp(time_interp,time_sec,temp_dewpt)\n",
    "solar_rad_interp = np.interp(time_interp,time_sec,solar_rad)\n",
    "wind_speed_interp = np.interp(time_interp,time_sec,wind_speed)"
   ]
  },
  {
   "cell_type": "markdown",
   "id": "1aeb8949",
   "metadata": {},
   "source": [
    "# Unit Conversion "
   ]
  },
  {
   "cell_type": "code",
   "execution_count": 13,
   "id": "2cb6b4cd",
   "metadata": {},
   "outputs": [],
   "source": [
    "temp_atm_interp += 273.15 # [ºC] to [K]\n",
    "temp_dewpt_interp = (temp_dewpt_interp-32)/1.8 # [ºF] to [ºC]\n",
    "wind_speed_interp *= (16/36) # [mph] to [m/s]\n",
    "\n",
    "for k in range(len(wind_speed_interp)): \n",
    "    if wind_speed_interp[k]<0: wind_speed_interp[k]=0"
   ]
  },
  {
   "cell_type": "markdown",
   "id": "fc123fcf",
   "metadata": {},
   "source": [
    "# Soil Properties "
   ]
  },
  {
   "cell_type": "raw",
   "id": "699aacfc",
   "metadata": {},
   "source": [
    "number_of_layers=0\n",
    "\n",
    "while number_of_layers<2 or number_of_layers>5:\n",
    "    print('\\nPlease enter an integer between:\\n    2 - at least HMA + ground \\\n",
    "           \\nand 5 - if old HMA as intermediate layer(s)')\n",
    "    k+=1\n",
    "    number_of_layers=indexin('\\nNumber of layers of pavement (including ground)? [2-5]\\nAnswer = ')"
   ]
  },
  {
   "cell_type": "raw",
   "id": "a121bff6",
   "metadata": {},
   "source": [
    "density=np.zeros((number_of_layers))\n",
    "spec_heat_capacity=np.zeros((number_of_layers))\n",
    "thermal_conductivity=np.zeros((number_of_layers))\n",
    "\n",
    "for i in range(number_of_layers):\n",
    "    density[i]=paramin('\\nDensity of layer nº'+str(i+1)+' [kg/m³] = ')\n",
    "    spec_heat_capacity[i]=paramin('\\nSpecific heat capacity of layer nº'+str(i+1)+' [J/kg/K] = ')\n",
    "    thermal_conductivity[i]=paramin('\\nThermal conductivity of layer nº'+str(i+1)+'  [W/m/K] = ')\n",
    "\n",
    "pavement_thickness=np.zeros((number_of_layers-1))\n",
    "interface_contact_res=np.zeros((number_of_layers-1))\n",
    "\n",
    "node_spacing=paramin('\\nNode spacing [cm] = ')\n",
    "\n",
    "for i in range(number_of_layers-1):\n",
    "    \n",
    "    while True:\n",
    "        pavement_thickness[i]=paramin('\\nPavement thickness of layer nº'+str(i+1)+ \\\n",
    "                                      ' [rounded to'+str(node_spacing)+' cm] = ')\n",
    "        verif=str(input('\\nIs the value of '+str(round(pavement_thickness[i],2))+ \\\n",
    "                        ' [cm] OK ? [y/N]\\nAnswer = '))\n",
    "        if verif=='y' or verif=='Y':\n",
    "            pavement_thickness[i]=round(pavement_thickness[i],2)\n",
    "            break\n",
    "    \n",
    "    interface_contact_res[i]=-1\n",
    "    \n",
    "    while interface_contact_res[i]<0 or interface_contact_res[i]>1:\n",
    "        print('\\nPlease entre a value between 0 and 1 (both included).')\n",
    "        interface_contact_res[i]=paramin('\\nInterface contact resistance between layer ' \\\n",
    "                                         +str(i+1)+' and '+str(i+2)+' [0-1] = ')\n",
    "\n",
    "surface_albedo=paramin('\\nSurface (layer nº1) albedo [] = ')\n",
    "surface_emissivity=paramin('\\nSurface (layer nº1) emissivity [] = ')\n",
    "\n",
    "deep_ground_temp=paramin('\\nDeep ground temperature [ºC] = ')\n",
    "deep_ground_temp=deep_ground_temp+273.15\n",
    "ground_layer_depth=paramin('\\nDeep ground layer depth [m] = ')\n",
    "\n",
    "sky_view_factor=paramin('\\nSky view factor (% of surface to open-sky) [] = ')\n",
    "solar_view_factor=paramin('\\nSolar view factor (% of surface receiving sun) [] = ')\n",
    "\n",
    "characteristic_length=paramin('\\nCharacteristic length (for convection model) [m] = ')"
   ]
  },
  {
   "cell_type": "code",
   "execution_count": 14,
   "id": "9c8740b9",
   "metadata": {},
   "outputs": [],
   "source": [
    "number_of_layers = 2\n",
    "\n",
    "density=[2085,2200] # [kg/m³]\n",
    "spec_heat_capacity=[1298,920] # [J/kg/K]\n",
    "thermal_conductivity=[0.741,1.20] # [W/m/K]\n",
    "\n",
    "# node_spacing=0.01 # [m] ~ 0.5 inches\n",
    "\n",
    "# instability in calculation even with CFL OK > test higher node_spacing\n",
    "node_spacing=0.0127 # [m] ~ 0.5 inches\n",
    "\n",
    "pavement_thickness=[round(6.0*0.0254,2)] # [m]\n",
    "interface_contact_res=[0.001]\n",
    "\n",
    "surface_albedo=0.15\n",
    "surface_emissivity=0.97\n",
    "\n",
    "deep_ground_temp=22.0+273.15 # [K]\n",
    "ground_layer_depth=3  # [m]\n",
    "\n",
    "sky_view_factor=0.95\n",
    "solar_view_factor=0.85\n",
    "\n",
    "characteristic_length=1 # [m]"
   ]
  },
  {
   "cell_type": "code",
   "execution_count": 15,
   "id": "6df7327a",
   "metadata": {},
   "outputs": [],
   "source": [
    "pavement_depth=np.zeros(len(pavement_thickness))\n",
    "pavement_depth[0]=pavement_thickness[0]\n",
    "for k in range(1,len(pavement_thickness)):\n",
    "    pavement_depth[k]=pavement_depth[k-1]+pavement_thickness[k]"
   ]
  },
  {
   "cell_type": "markdown",
   "id": "14cf71a7",
   "metadata": {},
   "source": [
    "# Preliminary Calculations and Input"
   ]
  },
  {
   "cell_type": "markdown",
   "id": "53d7e6ec",
   "metadata": {},
   "source": [
    "## Outgoing radiation properties"
   ]
  },
  {
   "cell_type": "markdown",
   "id": "5bc86a60",
   "metadata": {},
   "source": [
    "$$T_{sky}=T_{atm}\\left(0.004T_{dew}+0.8\\right)^{0.25}$$\n",
    "\n",
    "With:  \n",
    "-- $T_{sky}$ the sky temperature [K]  \n",
    "-- $T_{atm}$ the atmospheric dry-bulb temperature [K]  \n",
    "-- $T_{dew}$ the dew-point temperature [ºC]"
   ]
  },
  {
   "cell_type": "code",
   "execution_count": 16,
   "id": "5f77db08",
   "metadata": {},
   "outputs": [],
   "source": [
    "stefan_boltzmann=5.67e-8 # [W/m²/K⁴]"
   ]
  },
  {
   "cell_type": "code",
   "execution_count": 17,
   "id": "81517886",
   "metadata": {},
   "outputs": [],
   "source": [
    "temp_sky_interp = temp_atm_interp*(0.004*temp_dewpt_interp+0.8)**(0.25)"
   ]
  },
  {
   "cell_type": "markdown",
   "id": "b38c61e1",
   "metadata": {},
   "source": [
    "## Reference air film properties"
   ]
  },
  {
   "cell_type": "code",
   "execution_count": 18,
   "id": "2f25e5ff",
   "metadata": {},
   "outputs": [],
   "source": [
    "ref_temp_flow=[300,350]\n",
    "ref_viscosity_flow=[1.589e-05,2.092e-05]\n",
    "ref_conductivity_flow=[2.630e-02,3.000e-02]\n",
    "ref_diffusivity_flow=[2.250e-05,2.990e-05]\n",
    "ref_prandtl_flow=[0.707,0.700]"
   ]
  },
  {
   "cell_type": "markdown",
   "id": "62cd4bc3",
   "metadata": {},
   "source": [
    "# Formulae used within the recurring scheme"
   ]
  },
  {
   "cell_type": "markdown",
   "id": "6af1682f",
   "metadata": {},
   "source": [
    "## Radiation coefficient calculation\n",
    "\n",
    "Outgoing radiation coefficient **depends on SURFACE temperature**:  \n",
    "\n",
    "$$h_{rad}=\\Psi_{sky}\\varepsilon\\sigma\\left(T_S^2+T_{sky}^2\\right)\\left(T_S+T_{sky}\\right)$$  \n",
    "\n",
    "With:  \n",
    "-- $h_{rad}$ the abbreviated parameter for outgoing radiative heat transfer coefficient []  \n",
    "-- $\\Psi_{sky}$ the sky view factor []  \n",
    "-- $\\varepsilon$ the infrared emissivity of the surface []  \n",
    "-- $\\sigma=5.67e^{-8}$ the Stefan-Boltzmann constant [W/m²/K⁴]  \n",
    "-- $T_S$ the pavement surface temperature [K]"
   ]
  },
  {
   "cell_type": "markdown",
   "id": "3b32430b",
   "metadata": {},
   "source": [
    "## Convection heat transfer calculation\n",
    "\n",
    "Air film temperature **depends on SURFACE temperature**:\n",
    "\n",
    "$$T_{film}=\\frac{T_{surface}+T_{atm}}{2}$$\n",
    "\n",
    "$T_{film}$ is then used together with the ***Reference air film properties*** to interpolated or extrapolate the **acutal** air film properties:  \n",
    "\n",
    "-- kinematic viscosity $\\nu_{film}\\left(T_{film}\\right)$ [m²/s]  \n",
    "-- conductivity $k_{film}\\left(T_{film}\\right)$ [W/m/K]  \n",
    "-- diffusivity $\\alpha_{film}\\left(T_{film}\\right)$ [m²/s]  \n",
    "-- Prandtl number $\\operatorname{Pr}\\left(T_{film}\\right)$ []"
   ]
  },
  {
   "cell_type": "markdown",
   "id": "778cdc36",
   "metadata": {},
   "source": [
    "### Reynolds number of air film\n",
    "\n",
    "**Laminar or turbulent air flow ?**\n",
    "\n",
    "$$\\operatorname{Re}=\\frac{U_{film}L}{\\nu_{film}}$$\n",
    "\n",
    "With:  \n",
    "-- $\\operatorname{Re}$ the Reynolds number of air []  \n",
    "-- $U_{film}$ the wind velocity [m/s]  \n",
    "-- $L$ the characteristic length of the pavement [m]  \n",
    "-- $\\nu_{film}$ the kinematic viscosity of air [m²/s]  \n",
    "\n",
    "**If $Re<5e^5$, then the flow is laminar.  \n",
    "Else it is turbulent.**"
   ]
  },
  {
   "cell_type": "markdown",
   "id": "e0e01539",
   "metadata": {},
   "source": [
    "### Nusselt number of air film in function of laminar/turbulent flow\n",
    "\n",
    "For laminar flow:  \n",
    "$$\\operatorname{Nu}_{laminar}=0.664\\left[\\operatorname{Pr}^{1/3}\\operatorname{Re}^{0.5}\\right]$$\n",
    "\n",
    "For turbulent flow:\n",
    "$$\\operatorname{Nu}_{turbulent}=0.037\\left[\\operatorname{Pr}^{1/3}\\operatorname{Re}^{0.8}\\right]$$\n",
    "\n",
    "With:  \n",
    "-- $\\operatorname{Nu}_{xxx}$ the Nusselt number of air []  \n",
    "-- $\\operatorname{Pr}$ the Prandtl number of air []  "
   ]
  },
  {
   "cell_type": "markdown",
   "id": "afcb34ff",
   "metadata": {},
   "source": [
    "### Convective heat transfer coefficient of air hinf\n",
    "\n",
    "For laminar flow:  \n",
    "$$h_{laminar}=0.664\\left[k_{film}\\operatorname{Pr}^{1/3}\\nu_{film}^{-0.5}L^{-0.5}U_{film}^{0.5}\\right]$$\n",
    "$$h_{laminar}=\\operatorname{Nu}_{laminar}\\frac{k_{film}}{L}$$\n",
    "\n",
    "For turbulent flow:\n",
    "$$h_{turbulent}=0.037\\left[k_{film}\\operatorname{Pr}^{1/3}\\nu_{film}^{-0.8}L^{-0.2}U_{film}^{0.8}\\right]$$\n",
    "$$h_{turbulent}=\\operatorname{Nu}_{turbulent}\\frac{k_{film}}{L}$$\n",
    "\n",
    "With:  \n",
    "-- $h_{xxx}=h_\\infty$ the convective heat transfer coefficient of air []  \n",
    "-- $k_{film}$ the thermal conductivity of air [W/m/K]  "
   ]
  },
  {
   "cell_type": "markdown",
   "id": "b94c457b",
   "metadata": {},
   "source": [
    "## Stability verification\n",
    "\n",
    "Calculate Courant-Friedrichs-Lewy - CFL criterion at all time\n",
    "\n",
    "$$\\Delta t \\leq \\frac{\\rho_S c_S\\Delta x^2}{2\\left(h_{rad}\\Delta x + h_\\infty\\Delta x + k_S\\right)}$$\n",
    "\n",
    "With:  \n",
    "-- $\\rho_S$ the density of the surface layer [kg/m³]  \n",
    "-- $c_S$ the specific heat capacity of the surface layer [J/kg/K]  \n",
    "-- $k_S$ the thermal conductivity of the surface layer [W/m/K]  \n",
    "-- $\\Delta t$ the temporal discretization step [s]  \n",
    "-- $\\Delta x$ the spatial discretization step [m]"
   ]
  },
  {
   "cell_type": "markdown",
   "id": "113d6808",
   "metadata": {},
   "source": [
    "# Heat equations development using Finite Differences (FD)\n",
    "\n",
    "A Forward-Time Central-Space Finite Difference scheme, also known as *explicit scheme*, is used to solve the general 1D diffusion equation:  \n",
    "\n",
    "$$\\frac{\\partial u}{\\partial t}=\\alpha\\frac{\\partial^2 u}{\\partial x^2}$$\n",
    "\n",
    "With $\\alpha$ the diffusivity [m²/s].  \n",
    "\n",
    "This translates into the following equation:  \n",
    "\n",
    "$$\\frac{u_{m}^{t+1}-u_{m}^{t}}{\\Delta t}=\\frac{u_{m-1}^{t}-2u_{m}^{t}+u_{m+1}^{t}}{\\Delta x^2}$$\n",
    "\n",
    "Where:  \n",
    "-- $m$ represents the spacial position of the value of interest $u$  \n",
    "-- $t$ represents the temporal position of the value of interest $u$  \n",
    "-- $u_{m}^{t+1}$ is the sole unknown of the equation  \n",
    "\n",
    "The stencil associated to the FD-FTCS scheme is shown in the next figure:  \n",
    "\n",
    "![Finite Difference Forward-Time Central-Space Stencil](ftcs.png)\n",
    "\n",
    "In order to take into account the different phenomena involved in the heat exchange between the pavement slab and its surroundings (environment, old asphalt layers, ground), the general 1D diffusion equation is solved in a different fashion in function of the calculation depth of interest. This can be seen in the following figure **[Gui2007]**:\n",
    "\n",
    "![Heat transfer phenomena between pavement and its surroundings](gui2007.png)\n",
    "\n",
    "This way, at the surface (depth = 0 [m]), the equation is modified in order to take into account the input solar radiation, the output infrared radiation of the slab, the thermal convection as well as the thermal conduction. The resulting **equation (1)** can be seen below.  \n",
    "\n",
    "On the other hand, for interior-nodes (depth > 0 [m]), only thermal conduction has to be taken into account. Thus, a simpler **equation (2)** is developped and used.  \n",
    "\n",
    "A special case of this equation can be encountered when there is a thermal contact resistance $R_{ij}$ between two different layer of the ground. Such specificity is taken into account thanks to another **equation (3)** that allows taking into account the phenomenon while ensuring heat flux continuity between the $i$ and $j$ layers: \n",
    "\n",
    "$$k_i\\frac{\\text{d}T_i}{\\text{d}x}=k_j\\frac{\\text{d}T_j}{\\text{d}x}$$  \n",
    "\n",
    "and  \n",
    "\n",
    "$$R_{ij}=\\frac{T_{i,\\text{interface}}-T_{j,\\text{interface}}}{q_{\\text{interface}}^\"}$$  \n",
    "\n",
    "With:  \n",
    "-- $T_{i,\\text{interface}}$ and $T_{j,\\text{interface}}$ the interface temperatures at the i<sup>th</sup> and j<sup>th</sup> layers, respectively  \n",
    "-- $q_{\\text{interface}}^\"$ the heat flux flowing through the interface  \n",
    "\n",
    "As the *true* initial thermal profile of the slab is unknown, the *Initial Boundary Condition* (BC) $T(t=0,all\\text{ }depth)=T_{ground}$ is used.  \n",
    "\n",
    "Aditionnaly, the following *BC* is taken into account: $T(all\\text{ }time,\\infty)=T_{ground}$.  \n",
    "\n",
    "Finally, it is worth noting that, due to the lack of initial thermal profile, an iterative recurring scheme scheme is needed to compute the solution. This recurrence is realized applying $T(t=0,all\\text{ }depth)=T(t_{final},all\\text{ }depth)$ at each iteration (except the first one, where the initial BC applies).  \n",
    "\n",
    "A matricial *Frobenius* norm of the difference between thermal profile of iteration $i-1$ and iteration $i$ is used in order to evaluate the convergence of the recurring algorithm and define a suitable stopping criterion.  \n",
    "\n",
    "$$\\mathbb{X}=\\left[\\text{ThProfile}\\right]^{i-1}-\\left[\\text{ThProfile}\\right]^{i}$$\n",
    "\n",
    "$$\\left|\\left|\\mathbb{X}\\right|\\right|_F=\\sqrt{\\sum\\limits_i\\sum\\limits_j\\left|x_{ij}\\right|^2}$$"
   ]
  },
  {
   "cell_type": "markdown",
   "id": "4be50428",
   "metadata": {},
   "source": [
    "## Equation (1): Heat equation for surface-node S\n",
    "$$T_S^{t+1}=\\frac{2\\Delta t}{\\rho_S c_S \\Delta x}\\left[h_\\infty^{t+1}(T_{atm}^{t+1}-T_S^t)+h_{rad}^{t+1}(T_{sky}^{t+1}-T_S^t)+\\Psi_{solar}(1-\\bar\\alpha)q_S^{\"\\,t+1}+k_S\\frac{T_1^t-T_S^t}{\\Delta x}\\right]+T_S^t$$\n",
    "\n",
    "With:  \n",
    "-- $T_S^{t+1}$ the surface temperature at time $t+1$ [K]  \n",
    "-- $\\Psi_{solar}$ the solar view factor []  \n",
    "-- $\\bar\\alpha$ the surface albedo []  \n",
    "-- $q_S^{\"\\,t+1}$ the input solar radiation flux [W/m²]  \n",
    "-- $T_1^t$ the temperature at the first discretized depth at time $t$ [K]  \n",
    "-- $T_S^{t}$ the surface temperature at time $t$ [K]  \n",
    "\n",
    "## Equation (2): Interior-node at depth $m$\n",
    "$$T_m^{t+1}=\\frac{k_i \\Delta t}{\\rho_i c_i \\Delta x^2}\\left[T_{m-1}^t-2T_m^t+T_{m+1}^t\\right]+T_m^t$$\n",
    "\n",
    "With:  \n",
    "-- $T_m^{t+1}$ the temperature at depth $m$ and time $t+1$ [K]  \n",
    "-- $\\rho_i$ the density of layer $i$ [kg/m³]  \n",
    "-- $c_i$ the specific heat capacity of layer $i$ [J/kg/K]  \n",
    "-- $k_i$ the thermal conductivity of layer $i$ [W/m/K]  \n",
    "-- $T_{m-1}^t$ the temperature at depth $m-1$ and time $t$ [K]  \n",
    "-- $T_{m}^t$ the temperature at depth $m$ and time $t$ [K]  \n",
    "-- $T_{m+1}^t$ the temperature at depth $m+1$ and time $t$ [K]  \n",
    "\n",
    "## Equation (3): Interface-node at depth $m=n$\n",
    "$$T_{n}^{t+1}=\\frac{1}{2}\\left(T_{i,\\text{interface}}+T_{j,\\text{interface}}\\right)$$\n",
    "$$T_{n}^{t+1}=\\frac{1}{2}\\left[\\frac{2\\Delta x k_i+k_i k_j R_{ij}}{k_ik_jR_{ij}+\\Delta x k_i+\\Delta x k_j}\\left(T_{n-1}^t\\right)+\\frac{2\\Delta x k_j+k_i k_j R_{ij}}{k_ik_jR_{ij}+\\Delta x k_i+\\Delta x k_j}\\left(T_{n+1}^t\\right)\\right]$$\n",
    "\n",
    "With:  \n",
    "-- $T_n^{t+1}$ the temperature at depth $n$ and time $t+1$ [K]  \n",
    "-- $k_i$ and $k_j$ the thermal conductivity of layer $i$ and $j$, respectively [W/m/K]  \n",
    "-- $R_{ij}$ the thermal contact resistance between layers $i$ and $j$ [0-1]  \n",
    "-- $T_{n-1}^t$ the temperature at depth $n-1$ and time $t$ [K]    \n",
    "-- $T_{n+1}^t$  the temperature at depth $n+1$ and time $t$ [K]   "
   ]
  },
  {
   "cell_type": "markdown",
   "id": "292c1ddf",
   "metadata": {},
   "source": [
    "## Coefficient calculations for non-surface depths\n",
    "\n",
    "For each i<sup>th</sup> layer, some parameters are defined.  \n",
    "\n",
    "Those are directly related to the heat equations governing the heat energy in- and out-take, as well as it's diffusion within the slab. They are computed in order to simplify the understanding and lecture of the developped code.\n",
    "\n",
    "Some parameters can be computed **outside** of the iterated recurring scheme, as they are fixed. This is the case for the parameters $\\delta_i$, $A_i$ and $B_i$, associated with the interior-node heat equation (2). \n",
    "\n",
    "$$T_m^{t+1}=A_iT_m^t+B_i\\left(T_{m-1}^t+T_{m+1}^t\\right)$$\n",
    "\n",
    "With:  \n",
    "-- $\\delta_i=\\frac{2 \\Delta t}{\\rho_i c_i \\Delta x}$  \n",
    "-- $A_i=1-\\left[\\delta_i\\frac{k_i}{\\Delta x}\\right]$  \n",
    "-- $B_i=\\frac{\\delta_i k_i}{2\\Delta x}$  \n",
    "\n",
    "Identically, parameters $C_{ij}$ and $D_{ij}$, related to the interface-node equation (3) applied on the i<sup>th</sup> and j<sup>th</sup> layers, are computed beforehand.\n",
    "\n",
    "$$T_n^{t+1}=C_{ij}T_{n-1}^t+D_{ij}T_{n+1}^t$$\n",
    "\n",
    "With:  \n",
    "-- $C_{ij}=\\frac{1}{2}\\left[\\frac{2\\Delta x k_i+k_i k_j R_{ij}}{k_ik_jR_{ij}+\\Delta x \\\n",
    "k_i+\\Delta x k_j}\\right]$   \n",
    "-- $D_{ij}=\\frac{1}{2}\\left[\\frac{2\\Delta x k_j+k_i k_j R_{ij}}{k_ik_jR_{ij}+\\Delta x \\\n",
    "k_i+\\Delta x k_j}\\right]$"
   ]
  },
  {
   "cell_type": "code",
   "execution_count": 19,
   "id": "e2f9a2d9",
   "metadata": {},
   "outputs": [
    {
     "name": "stdout",
     "output_type": "stream",
     "text": [
      "[delta_i] = [0.00698275 0.00933678]\n",
      "[Ai] = [0.59258102 0.1177848 ]\n",
      "[Bi] = [0.20370949 0.4411076 ]\n",
      "Cij = [0.38587857]\n",
      "Dij = [0.61412143]\n"
     ]
    }
   ],
   "source": [
    "delta_calc = np.zeros((number_of_layers))\n",
    "A = np.zeros((number_of_layers))\n",
    "B = np.zeros((number_of_layers))\n",
    "C=np.zeros((len(pavement_depth)))\n",
    "D=np.zeros((len(pavement_depth)))\n",
    "\n",
    "for layer in range(number_of_layers):\n",
    "    delta_calc[layer] = (2*time_step)/(density[layer]*spec_heat_capacity[layer]*node_spacing)\n",
    "    A[layer] = 1-(delta_calc[layer]*thermal_conductivity[layer]/node_spacing)\n",
    "    B[layer] = 0.5*delta_calc[layer]*thermal_conductivity[layer]/node_spacing\n",
    "\n",
    "for interface in range(len(pavement_depth)):\n",
    "    C[interface]=(2*node_spacing*thermal_conductivity[interface] \\\n",
    "                  + thermal_conductivity[interface]*thermal_conductivity[interface+1]*interface_contact_res[interface]) \\\n",
    "                  / (2* (thermal_conductivity[interface]*thermal_conductivity[interface+1]*interface_contact_res[interface] \\\n",
    "                       + node_spacing*thermal_conductivity[interface]+node_spacing*thermal_conductivity[interface+1]))\n",
    "    D[interface]=(2*node_spacing*thermal_conductivity[interface+1] \\\n",
    "                  + thermal_conductivity[interface]*thermal_conductivity[interface+1]*interface_contact_res[interface]) \\\n",
    "                  / (2* (thermal_conductivity[interface]*thermal_conductivity[interface+1]*interface_contact_res[interface] \\\n",
    "                       + node_spacing*thermal_conductivity[interface]+node_spacing*thermal_conductivity[interface+1]))\n",
    "\n",
    "print('[delta_i] =',delta_calc)\n",
    "print('[Ai] =',A)\n",
    "print('[Bi] =',B)\n",
    "print('Cij =',C)\n",
    "print('Dij =',D)"
   ]
  },
  {
   "cell_type": "markdown",
   "id": "19d56b3d",
   "metadata": {},
   "source": [
    "## Coefficient calculations for surface\n",
    "\n",
    "In the case of the surface-node - equation (1) -, only 2 of the 4 parameters can be calculated outside the iterative loop: $\\delta_S$ and $B_S$.  \n",
    "\n",
    "$$T_S^{t+1}=A_S^{t+1}T_S^t+B_ST_1^t+C_S^{t+1}$$\n",
    "\n",
    "With:  \n",
    "-- $\\delta_S=\\frac{2\\Delta t}{\\rho_S c_S \\Delta x}$  \n",
    "-- $A_S^{t+1}=1-\\delta_S\\left[h_\\infty^{t+1}+h_{rad}^{t+1}+\\frac{k_S}{\\Delta x}\\right]$  \n",
    "-- $B_S=\\delta_S\\frac{k_S}{\\Delta x}$  \n",
    "-- $C_S^{t+1}=\\delta_S\\left[h_\\infty^{t+1}T_{atm}^{t+1}+h_{rad}^{t+1}T_{sky}^{t+1}+\\Psi_{solar}(1-\\bar\\alpha)q_S^{\"\\,t+1}\\right]$  \n",
    "\n",
    "However, parameters $A_S^{t+1}$ and $C_S^{t+1}$ need to be included into the recurring scheme as they depends on the convective ($h_\\infty$) and outgoing radiative ($h_{rad}$) coefficients, which themselves depend on the surface temperature $T_S^t$."
   ]
  },
  {
   "cell_type": "code",
   "execution_count": 20,
   "id": "9db528c9",
   "metadata": {},
   "outputs": [
    {
     "name": "stdout",
     "output_type": "stream",
     "text": [
      "delta_surf = 0.006982754429532095\n",
      "Bsurf = 0.4074189789199435\n"
     ]
    }
   ],
   "source": [
    "delta_surf = (2*time_step)/(density[0]*spec_heat_capacity[0]*node_spacing)\n",
    "Bsurf = delta_surf*thermal_conductivity[0]/node_spacing\n",
    "print('delta_surf =',delta_surf)\n",
    "print('Bsurf =',Bsurf)"
   ]
  },
  {
   "cell_type": "markdown",
   "id": "d9cfbff5",
   "metadata": {},
   "source": [
    "# FD-FTCS (*Finite-Difference Forward Time Central Space*) recurring scheme"
   ]
  },
  {
   "cell_type": "code",
   "execution_count": 21,
   "id": "94b21814",
   "metadata": {
    "scrolled": true
   },
   "outputs": [
    {
     "name": "stdout",
     "output_type": "stream",
     "text": [
      "\n",
      "\n",
      "Recurring Iteration 1\n",
      "Frobenius Norm = 212259.30922270258\n",
      "\n",
      "\n",
      "Recurring Iteration 2\n",
      "Frobenius Norm = 2247.7258267114553\n",
      "\n",
      "\n",
      "Recurring Iteration 3\n",
      "Frobenius Norm = 1239.2718906189054\n",
      "\n",
      "\n",
      "Recurring Iteration 4\n",
      "Frobenius Norm = 910.7387751377462\n",
      "\n",
      "\n",
      "Recurring Iteration 5\n",
      "Frobenius Norm = 731.7636284804369\n",
      "\n",
      "\n",
      "Recurring Iteration 6\n",
      "Frobenius Norm = 611.9342493334534\n",
      "\n",
      "\n",
      "Recurring Iteration 7\n",
      "Frobenius Norm = 520.9722594091827\n",
      "\n",
      "\n",
      "Recurring Iteration 8\n",
      "Frobenius Norm = 446.95567815216094\n",
      "\n",
      "\n",
      "Recurring Iteration 9\n",
      "Frobenius Norm = 384.6861238345648\n",
      "\n",
      "\n",
      "Recurring Iteration 10\n",
      "Frobenius Norm = 331.5266453776504\n",
      "\n",
      "\n",
      "Recurring Iteration 11\n",
      "Frobenius Norm = 285.8645979034892\n",
      "\n",
      "\n",
      "Recurring Iteration 12\n",
      "Frobenius Norm = 246.54352484013904\n",
      "\n",
      "\n",
      "Recurring Iteration 13\n",
      "Frobenius Norm = 212.64836178958686\n",
      "\n",
      "\n",
      "Recurring Iteration 14\n",
      "Frobenius Norm = 183.41857013579312\n",
      "\n",
      "\n",
      "Recurring Iteration 15\n",
      "Frobenius Norm = 158.20806582205623\n",
      "\n",
      "\n",
      "Recurring Iteration 16\n",
      "Frobenius Norm = 136.46292866074734\n",
      "\n",
      "\n",
      "Recurring Iteration 17\n",
      "Frobenius Norm = 117.70647408952644\n",
      "\n",
      "\n",
      "Recurring Iteration 18\n",
      "Frobenius Norm = 101.52787229129358\n",
      "\n",
      "\n",
      "Recurring Iteration 19\n",
      "Frobenius Norm = 87.57284639129293\n",
      "\n",
      "\n",
      "Recurring Iteration 20\n",
      "Frobenius Norm = 75.53582314693355\n",
      "\n",
      "\n",
      "Recurring Iteration 21\n",
      "Frobenius Norm = 65.15321932349099\n",
      "\n",
      "\n",
      "Recurring Iteration 22\n",
      "Frobenius Norm = 56.19766813088198\n",
      "\n",
      "\n",
      "Recurring Iteration 23\n",
      "Frobenius Norm = 48.473043634407276\n",
      "\n",
      "CONVERGENCE CRITERION Fnorm(X)<50 REACHED!\n"
     ]
    }
   ],
   "source": [
    "profile = np.zeros((len(time_interp),int(ground_layer_depth/node_spacing)+1))\n",
    "\n",
    "hrad = np.zeros((len(time_interp)))\n",
    "convective_heat_air = np.zeros((len(time_interp)))\n",
    "delta_t = np.zeros((len(time_interp)))\n",
    "Asurf = np.zeros((len(time_interp)))\n",
    "Csurf = np.zeros((len(time_interp)))\n",
    "\n",
    "normM = np.zeros((50))\n",
    "\n",
    "stab_flag = False\n",
    "\n",
    "for ite in range(50):\n",
    "    \n",
    "    if ite==0:\n",
    "        profile[-1,:].fill(deep_ground_temp)\n",
    "    \n",
    "    profile_old=copy.copy(profile)\n",
    "    \n",
    "    for time in range(0,profile.shape[0]):\n",
    "        \n",
    "        ##### hrad calculation #####\n",
    "        hrad[time] = sky_view_factor*surface_emissivity*stefan_boltzmann*(profile[time-1,0]**2+temp_sky_interp[time]**2)*(profile[time-1,0]+temp_sky_interp[time])\n",
    "        ############################\n",
    "        \n",
    "        ##### air film properties calculation #####\n",
    "        film_temp = 0.5*(profile[time-1,0]+temp_atm_interp[time])\n",
    "        film_viscosity = ((film_temp-ref_temp_flow[0])/(ref_temp_flow[1]-ref_temp_flow[0])) \\\n",
    "                         *(ref_viscosity_flow[1]-ref_viscosity_flow[0])+ref_viscosity_flow[0]\n",
    "        film_conductivity = ((film_temp-ref_temp_flow[0])/(ref_temp_flow[1]-ref_temp_flow[0])) \\\n",
    "                            *(ref_conductivity_flow[1]-ref_conductivity_flow[0])+ref_conductivity_flow[0]\n",
    "        film_diffusivity = ((film_temp-ref_temp_flow[0])/(ref_temp_flow[1]-ref_temp_flow[0])) \\\n",
    "                            *(ref_diffusivity_flow[1]-ref_diffusivity_flow[0])+ref_diffusivity_flow[0]\n",
    "        film_prandtl = ((film_temp-ref_temp_flow[0])/(ref_temp_flow[1]-ref_temp_flow[0])) \\\n",
    "                       *(ref_prandtl_flow[1]-ref_prandtl_flow[0])+ref_prandtl_flow[0]\n",
    "        film_beta = 1 / film_temp\n",
    "\n",
    "        film_reynolds = wind_speed_interp[time] * characteristic_length / film_viscosity\n",
    "        film_nusselt_laminar = 0.664 * film_reynolds**(0.5) * film_prandtl**(1/3)\n",
    "        film_nusselt_turbulent = 0.037 * film_reynolds**(0.8) * film_prandtl**(1/3)\n",
    "\n",
    "        if film_reynolds<5e5:\n",
    "            film_nusselt_actual=film_nusselt_laminar\n",
    "        else:\n",
    "            film_nusselt_actual=film_nusselt_turbulent\n",
    "            print('WATCH OUT : Turbulent flow!')\n",
    "        ###########################################\n",
    "        \n",
    "        ##### hinf calculation (from air film prop) #####\n",
    "        convective_heat_air[time] = film_nusselt_actual * film_conductivity / characteristic_length\n",
    "        #################################################\n",
    "        \n",
    "        ##### CFL criterion validation #####\n",
    "        delta_t[time]=(node_spacing**2)*density[0]*spec_heat_capacity[0] / (2*(hrad[time]*node_spacing+convective_heat_air[time]*node_spacing+thermal_conductivity[0]))\n",
    "        stability = delta_t[time] > time_step\n",
    "        \n",
    "        if stability==False: \n",
    "            print('Unstable FD scheme, breaking!')\n",
    "            stab_flag = True\n",
    "            break\n",
    "        ####################################\n",
    "        \n",
    "        ##### A & C surface coefficients #####\n",
    "        Asurf[time] = 1-(delta_surf*(hrad[time]+convective_heat_air[time]+thermal_conductivity[0]/node_spacing))\n",
    "        Csurf[time] = delta_surf*(hrad[time]*temp_sky_interp[time]+convective_heat_air[time]*temp_atm_interp[time] + \\\n",
    "                           solar_view_factor*(1-surface_albedo)*solar_rad_interp[time])\n",
    "        ######################################       \n",
    "        \n",
    "        for depth in range(profile.shape[1]):\n",
    "            depth_m=round(depth*node_spacing,2)\n",
    "            if depth_m==0:\n",
    "                profile[time,depth] = Asurf[time]*profile[time-1,depth]+Bsurf*profile[time-1,depth+1]+Csurf[time]\n",
    "                \n",
    "            elif depth_m<=pavement_depth[-1]:\n",
    "                for interface in range(len(pavement_depth)):\n",
    "                    if depth_m<pavement_depth[interface]:\n",
    "                        profile[time,depth] = A[interface]*profile[time-1,depth] \\\n",
    "                                            + B[interface]*(profile[time-1,depth-1]+profile[time-1,depth+1])\n",
    "                        break\n",
    "\n",
    "                    elif depth_m==pavement_depth[interface]:\n",
    "                        profile[time,depth] = C[interface]*profile[time-1,depth-1] \\\n",
    "                                            + D[interface]*profile[time-1,depth+1]\n",
    "                        break\n",
    "\n",
    "            elif depth_m!=ground_layer_depth:\n",
    "                profile[time,depth] = A[-1]*profile[time-1,depth] \\\n",
    "                                    + B[-1]*(profile[time-1,depth-1]+profile[time-1,depth+1])\n",
    "\n",
    "            else:\n",
    "                profile[time,depth] = deep_ground_temp\n",
    "        \n",
    "    if stab_flag == True:\n",
    "        break\n",
    "    \n",
    "    profile_diff=profile_old-profile\n",
    "    normM[ite] = np.linalg.norm(profile_diff,'fro')\n",
    "    \n",
    "    print('\\n')\n",
    "    print('Recurring Iteration '+str(ite+1))\n",
    "    print('Frobenius Norm =',normM[ite])\n",
    "    \n",
    "    if normM[ite]<=50:\n",
    "        print('\\nCONVERGENCE CRITERION Fnorm(X)<50 REACHED!')\n",
    "        break"
   ]
  },
  {
   "cell_type": "code",
   "execution_count": 23,
   "id": "4be7e694",
   "metadata": {},
   "outputs": [
    {
     "data": {
      "text/plain": [
       "[<matplotlib.lines.Line2D at 0x7f9c815a1e80>]"
      ]
     },
     "execution_count": 23,
     "metadata": {},
     "output_type": "execute_result"
    },
    {
     "data": {
      "image/png": "[encoded data removed]",
      "text/plain": [
       "<Figure size 432x288 with 1 Axes>"
      ]
     },
     "metadata": {
      "needs_background": "light"
     },
     "output_type": "display_data"
    }
   ],
   "source": [
    "plt.plot(time_interp/3600,profile[:,15]-273.15,'green')\n",
    "plt.plot(time_interp/3600,profile_old[:,15]-273.15,'red')"
   ]
  },
  {
   "cell_type": "code",
   "execution_count": 24,
   "id": "095abfb7",
   "metadata": {},
   "outputs": [
    {
     "name": "stdout",
     "output_type": "stream",
     "text": [
      "46.99252652952754\n",
      "41.42931353871529\n",
      "44.36527319812667\n"
     ]
    }
   ],
   "source": [
    "print(max(profile[:,15]-273.15))\n",
    "print(min(profile[:,15]-273.15))\n",
    "print(np.mean(profile[:,15]-273.15))"
   ]
  },
  {
   "cell_type": "code",
   "execution_count": 25,
   "id": "5a05dc48",
   "metadata": {},
   "outputs": [
    {
     "data": {
      "image/png": "[encoded data removed]",
      "text/plain": [
       "<Figure size 432x288 with 1 Axes>"
      ]
     },
     "metadata": {
      "needs_background": "light"
     },
     "output_type": "display_data"
    }
   ],
   "source": [
    "for k in range(20):\n",
    "    plt.plot(time_interp/3600,profile[:,k]-273.15)"
   ]
  },
  {
   "cell_type": "code",
   "execution_count": 26,
   "id": "5e3d586b",
   "metadata": {
    "scrolled": true
   },
   "outputs": [
    {
     "data": {
      "text/plain": [
       "[<matplotlib.lines.Line2D at 0x7f9c81729b80>]"
      ]
     },
     "execution_count": 26,
     "metadata": {},
     "output_type": "execute_result"
    },
    {
     "data": {
      "image/png": "[encoded data removed]",
      "text/plain": [
       "<Figure size 432x288 with 1 Axes>"
      ]
     },
     "metadata": {
      "needs_background": "light"
     },
     "output_type": "display_data"
    }
   ],
   "source": [
    "plt.plot(np.linspace(0,ground_layer_depth,profile.shape[1]),profile[0,:]-273.15,'green')\n",
    "plt.plot(np.linspace(0,ground_layer_depth,profile.shape[1]),profile_old[0,:]-273.15,'red')"
   ]
  },
  {
   "cell_type": "code",
   "execution_count": 27,
   "id": "a7dc4fd4",
   "metadata": {},
   "outputs": [
    {
     "name": "stdout",
     "output_type": "stream",
     "text": [
      "a = [1, 2]\n",
      "b = [1, 2]\n",
      "a = [3, 2]\n",
      "b = [3, 2]\n"
     ]
    }
   ],
   "source": [
    "a = [1,2]\n",
    "print('a =',a)\n",
    "b = a\n",
    "print('b =',b)\n",
    "a[0]=3\n",
    "print('a =',a)\n",
    "print('b =',b)"
   ]
  },
  {
   "cell_type": "code",
   "execution_count": null,
   "id": "107055ab",
   "metadata": {},
   "outputs": [],
   "source": []
  }
 ],
 "metadata": {
  "kernelspec": {
   "display_name": "Python 3 (ipykernel)",
   "language": "python",
   "name": "python3"
  },
  "language_info": {
   "codemirror_mode": {
    "name": "ipython",
    "version": 3
   },
   "file_extension": ".py",
   "mimetype": "text/x-python",
   "name": "python",
   "nbconvert_exporter": "python",
   "pygments_lexer": "ipython3",
   "version": "3.9.7"
  }
 },
 "nbformat": 4,
 "nbformat_minor": 5
}
