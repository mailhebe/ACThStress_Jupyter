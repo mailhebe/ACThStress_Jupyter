{
 "cells": [
  {
   "cell_type": "markdown",
   "metadata": {},
   "source": [
    "<h1 align=center> Calculation of Thermal Stress Evolution in Asphalt Concrete Slabs </h1>\n",
    "\n",
    "## Global layers properties\n",
    "\n",
    "1. Asphalt Concrete mixture *AC* properties:\n",
    "    - $k_{AC}$: thermal conductivity of asphalt concrete [W/(m.K)]\n",
    "    - $\\alpha_{AC}$: thermal diffusivity of asphalt concrete [m²/s]\n",
    "    \n",
    "    \n",
    "2. Granular Base *GB* properties:\n",
    "    - $k_{GB}$: thermal conductivity of aggregates [W/(m.K)]\n",
    "    - $\\alpha_{GB}$: thermal diffusivity of aggregates [m²/s]\n",
    "    \n",
    "    \n",
    "3. Asphalt Concrete layer depth $z$ [cm]\n",
    "\n",
    "\n",
    "4. Temperature of Asphalt Concrete layer:\n",
    "    - $T_{min}$: minimum temperature of the slab [ºC]\n",
    "    - $T_{max}$: maximum temperature of the slab [ºC]\n",
    "    - $T_{mean}$: mean (equilibrium) temperature of the slab [ºC]"
   ]
  },
  {
   "cell_type": "code",
   "execution_count": 1,
   "metadata": {},
   "outputs": [],
   "source": [
    "import math\n",
    "import cmath\n",
    "import numpy as np\n",
    "import pandas as pd\n",
    "from scipy.optimize import curve_fit\n",
    "import matplotlib.pyplot as plt\n",
    "#import matplotlib as mpl"
   ]
  },
  {
   "cell_type": "code",
   "execution_count": 2,
   "metadata": {},
   "outputs": [],
   "source": [
    "#%matplotlib qt\n",
    "%matplotlib inline"
   ]
  },
  {
   "cell_type": "code",
   "execution_count": 3,
   "metadata": {},
   "outputs": [],
   "source": [
    "from func import paramin, indexin"
   ]
  },
  {
   "cell_type": "code",
   "execution_count": 4,
   "metadata": {},
   "outputs": [
    {
     "name": "stdout",
     "output_type": "stream",
     "text": [
      "\n",
      "Do you want to use example material properties? (Y/n)\n",
      "\n",
      "\n",
      "Thermal conductivity AC [W/(m.K)] = 0.0021\n",
      "Thermal diffusivity AC [m^2/s] = 0.003\n",
      "Thermal conductivity AGG [W/(m.K)] = 1.38\n",
      "Thermal diffusivity AGG [m^2/s] = 1\n",
      "\n",
      "Asphalt Concrete layer thickness [cm] = 12.5\n",
      "\n",
      "Max temperature [ºC] = 21\n",
      "Min temperature [ºC] = 10\n",
      "Mean temperature [ºC] = 16\n",
      "\n",
      "Is that correct? (y/N)\n",
      "y\n"
     ]
    }
   ],
   "source": [
    "correct=''\n",
    "\n",
    "while correct!='y' and correct!='Y':\n",
    "        \n",
    "    default=str(input('\\nDo you want to use example material properties? (Y/n)\\n'))\n",
    "            \n",
    "    if default=='n' or default=='N':\n",
    "\n",
    "        kac=paramin('\\nThermal conductivity AC [W/(m.K)] = ')\n",
    "        aac=paramin('Thermal diffusivity AC [m^2/s] = ')\n",
    "        kgb=paramin('Thermal conductivity GB [W/(m.K)] = ')\n",
    "        agb=paramin('Thermal diffusivity GB [m^2/s] = ')\n",
    "\n",
    "        z_cm=paramin('\\nAsphalt Concrete layer thickness [cm] = ')\n",
    "\n",
    "        tmax=paramin('\\nMax temperature [ºC]= ')\n",
    "        tmin=paramin('Min temperature [ºC]= ')\n",
    "        tmean=paramin('Mean temperature [ºC]= ')\n",
    "        \n",
    "    else:\n",
    "\n",
    "        # AC prop default values\n",
    "        kac=0.0021\n",
    "        aac=1.38\n",
    "\n",
    "        # Agg prop default values\n",
    "        kgb=0.003\n",
    "        agb=1\n",
    "\n",
    "        # AC layer thickness example value\n",
    "        z_cm=12.5\n",
    "\n",
    "        # Temperature example values\n",
    "        tmax=21\n",
    "        tmin=10\n",
    "        tmean=16\n",
    "\n",
    "        print('\\nThermal conductivity AC [W/(m.K)] =',kac)\n",
    "        print('Thermal diffusivity AC [m^2/s] =',kgb)\n",
    "        print('Thermal conductivity AGG [W/(m.K)] =',aac)\n",
    "        print('Thermal diffusivity AGG [m^2/s] =',agb)\n",
    "        \n",
    "        print('\\nAsphalt Concrete layer thickness [cm] =',z_cm)\n",
    "        \n",
    "        print('\\nMax temperature [ºC] =',tmax)\n",
    "        print('Min temperature [ºC] =',tmin)\n",
    "        print('Mean temperature [ºC] =',tmean)\n",
    "        \n",
    "    correct=str(input('\\nIs that correct? (y/N)\\n'))\n",
    "\n",
    "z_m=z_cm/100 # layer thickness in [m]"
   ]
  },
  {
   "cell_type": "markdown",
   "metadata": {},
   "source": [
    "## Do you have $B_{mix}$ ?\n",
    "### Input:\n",
    "- $B_{mix}$: Linear coefficient of thermal contraction of asphalt concrete [1/C]\n",
    "\n",
    "## Do you have $VMA$ and $V_{eff}$ ?\n",
    "### Input:\n",
    "- $VMA$: Intergranular void content in aggregate [%]\n",
    "- $V_{eff}$: Aggregate volume in mix [%]\n",
    "- $\\lambda_{BIN/AG}$: Linear coefficient of thermal contraction of Asphalt Binder and Aggregates [1/C]\n",
    "\n",
    "### Since:\n",
    "<div style='width: auto; float: center'/>\n",
    "    <table align=\\\"center\\\">\n",
    "        <tr><th>$B_{mix}=\\frac{VMA\\cdot\\lambda_{BIN}+V_{eff}\\cdot\\lambda_{AG}}{300}$</th></tr>\n",
    "    </table>\n",
    "</div>\n",
    "\n",
    "## None of this? Please enter the following\n",
    "### Input: \n",
    "- $\\lambda_{BIN/AG}$: Volumetric coefficient of thermal contraction of Asphalt Concrete and Aggregates [1/C]\n",
    "- $Gsb$: Aggregate bulk specific gravity\n",
    "- $Gb$: Binder specific gravity\n",
    "- $Gmm$: Asphalt Concrete maximum specific gravity\n",
    "- $AC$: Air void content [%vol.]\n",
    "- $BC$: Binder content [%wt.]\n",
    "\n",
    "### Since:\n",
    "<div style='width: auto; float: center'/>\n",
    "    <table align=center>\n",
    "        <tr><th>$VMA=100-Gmb\\cdot\\frac{100-BC}{Gsb}$</th></tr>\n",
    "        <tr><th>$V_{eff}=Gmb\\cdot\\left(\\frac{100}{Gmm}-\\frac{BC}{Gb}\\right)$</th></tr>\n",
    "    </table>\n",
    "</div>"
   ]
  },
  {
   "cell_type": "code",
   "execution_count": 5,
   "metadata": {},
   "outputs": [
    {
     "name": "stdout",
     "output_type": "stream",
     "text": [
      "\n",
      "Do you want to use example mixture properties? (Y/n)\n",
      "\n",
      "\n",
      "Bmix linear coefficient of thermal contraction of asphalt mix [1/C] = 2.351e-05\n",
      "\n",
      "Is that correct? (y/N)\n",
      "y\n"
     ]
    }
   ],
   "source": [
    "correct=''\n",
    "\n",
    "while correct!='y' and correct!='Y':\n",
    "    default=str(input('\\nDo you want to use example mixture properties? (Y/n)\\n'))\n",
    "\n",
    "    if default=='n' or default=='N':\n",
    "        bmixin=str(input('\\nDo yo already have Bmix ? (Y/n)\\n'))\n",
    "\n",
    "        if bmixin=='n' or bmixin=='N':\n",
    "            Vin=str(input('\\nDo yo already have VMA and Veff ? (Y/n)\\n'))\n",
    "\n",
    "            if Vin=='n' or Vin=='N':\n",
    "                lbin=paramin('\\nlinear coeff thermal contraction Binder [1/K] = ')\n",
    "                lag=paramin('linear coeff thermal contraction Agg [1/K] = ')\n",
    "                gsb=paramin('\\nGsb aggregate bulk specific gravity = ')\n",
    "                gb=paramin('Gb binder specific gravity = ')\n",
    "                gmm=paramin('Gmm asphalt mixture maximum specific gravity =')\n",
    "                av=paramin('\\nAir volume [%] = ')\n",
    "                bc=paramin('Binder content [%] = ')\n",
    "\n",
    "                gmb=(1-av/100)*gmm\n",
    "                vma=round(100-gmb*(100-bc)/gsb,2)\n",
    "                gse=(100-bc)/(100/gmm-bc/gb)\n",
    "                veff=round(gmb*(100-bc)/gse,2)\n",
    "                #veff=round(gmb*(100/gmm-bc/gb),2)\n",
    "                bmix=(vma*lbin+veff*lag)/300\n",
    "\n",
    "            else:\n",
    "                lbin=paramin('\\nlinear coeff thermal contraction Binder [1/K] = ')\n",
    "                lag=paramin('linear coeff thermal contraction Agg [1/K] = ')\n",
    "                vma=paramin('\\nVMA  intergranular void content in aggregate [%] = ')\n",
    "                veff=paramin('Veff aggregate volume in mix [%] = ')\n",
    "\n",
    "            bmix=(vma*lbin+veff*lag)/300\n",
    "            print('\\nBmix linear coefficient of thermal contraction of asphalt mix [1/C] = '+f'{bmix:.3e}')\n",
    "\n",
    "        else:\n",
    "            bmix=paramin('Bmix linear coefficient of thermal contraction of asphalt mix [1/C] = ')\n",
    "\n",
    "    else:\n",
    "        bmix=2.351e-05   \n",
    "        print('\\nBmix linear coefficient of thermal contraction of asphalt mix [1/C] = '+f'{bmix:.3e}')\n",
    "    \n",
    "    correct=str(input('\\nIs that correct? (y/N)\\n'))"
   ]
  },
  {
   "cell_type": "markdown",
   "metadata": {},
   "source": [
    "## Temperature Profile Model\n",
    "### Input:\n",
    "- $t_{day}$: number of days to compute [days]\n",
    "\n",
    "                !!! integer only !!!\n",
    "\n",
    "- $t_{step}$: time step of the model [hours]\n",
    "\n",
    "                !!! float OK !!!\n",
    "\n",
    "- $z_{step}$: depth step of the model [cm]\n",
    "\n",
    "                !!! float OK !!!"
   ]
  },
  {
   "cell_type": "code",
   "execution_count": 6,
   "metadata": {},
   "outputs": [
    {
     "name": "stdout",
     "output_type": "stream",
     "text": [
      "Number of days to compute [days] = 1\n",
      "Time step of the model [hours] = 1\n",
      "Depth step of the model [cm] = 1\n"
     ]
    }
   ],
   "source": [
    "tday=indexin('Number of days to compute [days] = ')\n",
    "tstep=paramin('Time step of the model [hours] = ')\n",
    "zdiscr=paramin('Depth step of the model [cm] = ')\n",
    "\n",
    "tday=1 # number of days to compute\n",
    "tday+=1\n",
    "tstep=2 # time step (in hour)\n",
    "zdiscr=2.5 # depth discretization in [cm]"
   ]
  },
  {
   "cell_type": "code",
   "execution_count": 7,
   "metadata": {
    "scrolled": true
   },
   "outputs": [],
   "source": [
    "p=np.array([12.8377+1.66606j,12.8377-1.66606j,12.2261+5.01272j,12.2261-5.01272j,\n",
    "            10.9343+8.40967j,10.9343-8.40967j,8.77643+11.9219j,8.77643-11.9219j,\n",
    "            5.22545+15.7295j,5.22545-15.7295j])\n",
    "\n",
    "m=np.array([-868.461+15457.4j, -868.461-15457.4j, 1551.63-8439.83j, 1551.63+8439.83j,\n",
    "            -858.652+2322.07j, -858.652-2322.07j, 186.327-253.322j, 186.327+253.322j,\n",
    "            -10.349+4.11094j, -10.349-4.11094j])\n",
    "\n",
    "# We should always compute 2 days and eliminate the first day\n",
    "# so we avoid the discontinuity.\n",
    "\n",
    "dhours=tday*24\n",
    "tdiscr=int(dhours/tstep+1)\n",
    "time=np.linspace(0,dhours,tdiscr,dtype=float)\n",
    "\n",
    "time[0]=1e-1 # change add by Qingwen because of div/0 at first instant (for each depth)\n",
    "\n",
    "if int(z_cm)==z_cm:\n",
    "    length=z_cm\n",
    "else:\n",
    "    length=int(z_cm)+1\n",
    "    \n",
    "z=np.arange(0,length+1,zdiscr,dtype=float) # rounded depth steps in [cm]\n",
    "z[-1]=z_cm # real AC thickness value in [cm] at last element\n",
    "zm=z/100 # rounded depth steps in [m]\n",
    "zm[-1]=z_m # real AC thickness value in [m] at last element\n",
    "\n",
    "ftemp=np.zeros((len(time),len(zm)))\n",
    "\n",
    "for i in range(len(time)):\n",
    "    for k in range(len(zm)):\n",
    "        ttemp=0\n",
    "        for j in range(len(p)):\n",
    "            temp0=p[j]/time[i] # here is the 0 div by time[0]\n",
    "            \n",
    "            r1=cmath.sqrt(temp0/kac)  # relaciona con cemento asfaltico\n",
    "            r2=cmath.sqrt(temp0/kgb)  # relaciona con agregado\n",
    "            mixprop=(aac*r1)/(agb*r2) # relaciona ambos\n",
    "            \n",
    "            ldiv=(1+mixprop.real)/(1-mixprop.real)\n",
    "            \n",
    "            fs=((tmax+tmin)/2)/temp0+(6*math.pi*(tmax-tmin))/(144*temp0**2+math.pi**2)\n",
    "            a=(fs-tmean/temp0)/(1-ldiv*cmath.exp(2*z_m*r1))\n",
    "            b=cmath.exp(zm[k]*r1)-ldiv*cmath.exp((2*z_m-zm[k])*r1)\n",
    "            \n",
    "            U=a*b\n",
    "            FFs=temp0*U\n",
    "            out=m[j]*FFs\n",
    "            \n",
    "            ttemp=ttemp+out.real\n",
    "            \n",
    "        ftemp[i,k]=ttemp+tmean"
   ]
  },
  {
   "cell_type": "markdown",
   "metadata": {},
   "source": [
    "## Temperature vs. Time - at different depth"
   ]
  },
  {
   "cell_type": "code",
   "execution_count": 8,
   "metadata": {},
   "outputs": [
    {
     "name": "stdout",
     "output_type": "stream",
     "text": [
      "\n",
      "Do you wanto to plot the whole graph (Y/n)\n",
      "\n"
     ]
    },
    {
     "data": {
      "image/png": "[encoded data removed]",
      "text/plain": [
       "<Figure size 432x288 with 1 Axes>"
      ]
     },
     "metadata": {
      "needs_background": "light"
     },
     "output_type": "display_data"
    },
    {
     "name": "stdout",
     "output_type": "stream",
     "text": [
      "\n",
      "Do you want to export the data? (y/N)\n",
      "\n",
      "\n",
      "Finished? (y/N)\n",
      "y\n"
     ]
    }
   ],
   "source": [
    "finished=''\n",
    "\n",
    "while finished!='y' and finished!='Y':\n",
    "    \n",
    "    fullplot=str(input('\\nDo you wanto to plot the whole graph (Y/n)\\n'))\n",
    "\n",
    "    startplot=0\n",
    "    stopplot=dhours\n",
    "    kplot=2\n",
    "\n",
    "    if fullplot=='n' or fullplot=='N':\n",
    "        halfplot=str(input('\\nDo you wanto to plot the graph once equilibrium is reached? (Y/n)\\n'))\n",
    "        kplot=1\n",
    "        if halfplot=='n' or halfplot=='N':\n",
    "            startplot=indexin('\\nChoose a starting time [h] :')\n",
    "            stopplot=indexin('\\nChoose a ending time [h] :')\n",
    "            kplot=0\n",
    "\n",
    "    if kplot==2:\n",
    "        time2=time\n",
    "        time2[0]=0\n",
    "        ftemp2=ftemp\n",
    "    elif kplot==1:\n",
    "        time2=time[int(24/tstep):]-24 # Recover only second day and correct time stamp\n",
    "        ftemp2=ftemp[int(24/tstep):,:] # Avoid discontinuity due to div/0\n",
    "    else:\n",
    "        time2=time[int(startplot/tstep):int(stopplot/tstep)+1]\n",
    "        ftemp2=ftemp[int(startplot/tstep):int(stopplot/tstep)+1,:]\n",
    "    plt.plot(time2,ftemp2)\n",
    "\n",
    "    plt.title('Temperature evolution for different depth')\n",
    "    plt.xlabel('Time [h]')\n",
    "    plt.xticks(np.arange(time2[0],time2[-1]+1,tstep*2))\n",
    "    plt.xlim(time2[0],time2[-1])\n",
    "    plt.ylabel('Temperature [ºC]')\n",
    "    plt.ylim(round(min(ftemp2[:,0]))-1,round(max(ftemp2[:,0]))+1)\n",
    "    plt.legend(z,loc='center right',bbox_to_anchor=(1.25,0.5),title='Depth [cm]')\n",
    "    plt.grid(True)\n",
    "    plt.show()\n",
    "\n",
    "    exportplot=str(input('\\nDo you want to export the data? (y/N)\\n'))\n",
    "\n",
    "    if exportplot=='y' or exportplot=='Y':\n",
    "        exportftemp=pd.DataFrame(ftemp2,index=[time2],columns=[z])\n",
    "        filepath = 'temp-profile.xlsx'\n",
    "        exportftemp.to_excel(filepath,index=True,header=True)\n",
    "    \n",
    "    finished=str(input('\\nFinished? (y/N)\\n'))\n"
   ]
  },
  {
   "cell_type": "markdown",
   "metadata": {},
   "source": [
    "## Depth vs. Temperature - at a given time"
   ]
  },
  {
   "cell_type": "code",
   "execution_count": 9,
   "metadata": {
    "scrolled": true
   },
   "outputs": [
    {
     "name": "stdout",
     "output_type": "stream",
     "text": [
      "\n",
      "Hour of the temperature profile wanted : 2\n"
     ]
    },
    {
     "data": {
      "image/png": "[encoded data removed]",
      "text/plain": [
       "<Figure size 432x288 with 1 Axes>"
      ]
     },
     "metadata": {
      "needs_background": "light"
     },
     "output_type": "display_data"
    },
    {
     "name": "stdout",
     "output_type": "stream",
     "text": [
      "\n",
      "Finished? (y/N)\n",
      "y\n"
     ]
    }
   ],
   "source": [
    "finished=''\n",
    "\n",
    "while finished!='y' and finished!='Y':\n",
    "    ttime=indexin('\\nHour of the temperature profile wanted : ')\n",
    "\n",
    "    #plt.plot(ftemp[int(ttime/tstep),:],z) # Depth vs Temp\n",
    "    plt.plot(ftemp[int(ttime/tstep),:],z*0.3937008) # Depth_inches vs Temp\n",
    "\n",
    "    plt.title('Temperature profile at '+str(ttime)+' h')\n",
    "    plt.xlabel('Temperature [ºC]')\n",
    "    #plt.xlim(min(ftemp2[int(ttime/tstep),:]),max(ftemp2[int(ttime/tstep),:]))\n",
    "    plt.ylabel('Depth [cm]')\n",
    "    #plt.ylim(0,round(z[-1])+1)\n",
    "    plt.ylim(-0.5,round(z[-1]*0.3937008)+0.5)\n",
    "    plt.grid(True)\n",
    "    plt.show()\n",
    "\n",
    "    # export in excel with automatic naming // hour\n",
    "    \n",
    "    finished=str(input('\\nFinished? (y/N)\\n'))"
   ]
  },
  {
   "cell_type": "markdown",
   "metadata": {},
   "source": [
    "## Import of material data (Creep Compliance or E*)"
   ]
  },
  {
   "cell_type": "code",
   "execution_count": 10,
   "metadata": {},
   "outputs": [
    {
     "name": "stdout",
     "output_type": "stream",
     "text": [
      "What do you want to import?\n",
      "1 - Creep Compliance Data\n",
      "2 - E* Data\n",
      "1\n",
      "What importation method do you want to use?\n",
      "1 - Excel Table Format\n",
      "2 - Clipboard Copy\n",
      "1\n"
     ]
    }
   ],
   "source": [
    "datain1=''\n",
    "while datain1!=1 and datain1!=2:\n",
    "    datain1=indexin('What do you want to import?\\n1 - Creep Compliance Data\\n2 - E* Data\\n')\n",
    "    \n",
    "datain2=''\n",
    "while datain2!=1 and datain2!=2:\n",
    "    datain2=indexin('What importation method do you want to use?\\n1 - Excel Table Format\\n2 - Clipboard Copy\\n')\n",
    "\n",
    "if datain1==1 and datain2==1:\n",
    "    col_name=['temp_C','time_s','compliance_gpa^(-1)']\n",
    "    datain=pd.read_excel (r'creep_compliance.xlsx')\n",
    "    datain.columns=[col_name[0],col_name[1],col_name[2]]\n",
    "\n",
    "elif datain1==2 and datain2==1:\n",
    "    col_name=['temp_C','freq_hz','Edyn_gpa']\n",
    "    datain=pd.read_excel (r'dynamic_modulus.xlsx')\n",
    "    datain.columns=[col_name[0],col_name[1],col_name[2]]\n",
    "\n",
    "elif datain1==1 and datain2==2:\n",
    "    col_name=['temp_C','time_s','compliance_gpa^(-1)']\n",
    "    while True:\n",
    "        cask=input('Please copy all creep compliance data {Temperature - Time - Compliance} from your Excel file!\\nONCE your data is in the clipboard, press any key\\n')\n",
    "        datain=pd.read_clipboard(header=None)\n",
    "\n",
    "        if isinstance(datain.iloc[0,0], str):\n",
    "            datain=datain.drop(datain.index[0])\n",
    "            datain=datain.reset_index(drop=True)\n",
    "\n",
    "        ctemp=indexin('The first column correspond to (give the number):\\n 1 - Temperature (C)\\n 2 - Time (sec)\\n 3 - Compliance (1/GPa)\\n')\n",
    "        ctime_freq=indexin('The second column correspond to (give the number):\\n 1 - Temperature (C)\\n 2 - Time (sec)\\n 3 - Compliance (1/GPa)\\n')\n",
    "        cmaterial=indexin('The third column correspond to (give the number):\\n 1 - Temperature (C)\\n 2 - Time (sec)\\n 3 - Compliance (1/GPa)\\n')\n",
    "\n",
    "        datain.columns=[col_name[ctemp-1],col_name[ctime_freq-1],col_name[cmaterial-1]]\n",
    "\n",
    "        print('Please verify your data below.')\n",
    "        print(datain)\n",
    "        cask=input('Is is correct? (y/N)\\n')\n",
    "        if cask=='y' or cask=='Y': break\n",
    "            \n",
    "else:\n",
    "    col_name=['temp_C','freq_hz','Edyn_gpa']\n",
    "    while True:\n",
    "        cask=input('Please copy all E* data {Temperature - Frequency - E*} from your Excel file!\\nONCE your data is in the clipboard, press any key\\n')\n",
    "        datain=pd.read_clipboard(header=None)\n",
    "\n",
    "        if isinstance(datain.iloc[0,0], str):\n",
    "            datain=datain.drop(datain.index[0])\n",
    "            datain=datain.reset_index(drop=True)\n",
    "\n",
    "        ctemp=indexin('The first column correspond to (give the number):\\n 1 - Temperature (C)\\n 2 - Frequency (Hz)\\n 3 - Dynamic Modulus (GPa)\\n')\n",
    "        ctime_freq=indexin('The second column correspond to (give the number):\\n 1 - Temperature (C)\\n 2 - Frequency (Hz)\\n 3 - Dynamic Modulus (GPa)\\n')\n",
    "        cmaterial=indexin('The third column correspond to (give the number):\\n 1 - Temperature (C)\\n 2 - Frequency (Hz)\\n 3 - Dynamic Modulus (GPa)\\n')\n",
    "\n",
    "        datain.columns=[col_name[ctemp-1],col_name[ctime_freq-1],col_name[cmaterial-1]]\n",
    "\n",
    "        print('Please verify your data below.')\n",
    "        print(datain)\n",
    "        cask=input('Is is correct? (y/N)\\n')\n",
    "        if cask=='y' or cask=='Y': break"
   ]
  },
  {
   "cell_type": "code",
   "execution_count": 11,
   "metadata": {
    "scrolled": true
   },
   "outputs": [
    {
     "name": "stdout",
     "output_type": "stream",
     "text": [
      "    temp_C  time_s  compliance_gpa^(-1)\n",
      "0      -20       1             0.045229\n",
      "1      -20       2             0.046810\n",
      "2      -20       5             0.049365\n",
      "3      -20      10             0.051892\n",
      "4      -20      20             0.055146\n",
      "5      -20      50             0.059798\n",
      "6      -20     100             0.064649\n",
      "7      -20     200             0.070221\n",
      "8      -20     500             0.079147\n",
      "9      -20    1000             0.086293\n",
      "10     -10       1             0.057676\n",
      "11     -10       2             0.060700\n",
      "12     -10       5             0.065677\n",
      "13     -10      10             0.070468\n",
      "14     -10      20             0.076423\n",
      "15     -10      50             0.086705\n",
      "16     -10     100             0.095916\n",
      "17     -10     200             0.109966\n",
      "18     -10     500             0.133182\n",
      "19     -10    1000             0.159377\n",
      "20       0       1             0.099654\n",
      "21       0       2             0.107731\n",
      "22       0       5             0.121974\n",
      "23       0      10             0.137219\n",
      "24       0      20             0.156358\n",
      "25       0      50             0.191109\n",
      "26       0     100             0.224928\n",
      "27       0     200             0.270531\n",
      "28       0     500             0.351902\n",
      "29       0    1000             0.443153\n"
     ]
    }
   ],
   "source": [
    "if isinstance(datain.iloc[0,2],float)==False:\n",
    "    datain[col_name[cmaterial-1]]=[x.replace(',', '.') for x in datain[col_name[cmaterial-1]]]\n",
    "    datain[col_name[cmaterial-1]] = datain[col_name[cmaterial-1]].astype(float)\n",
    "print(datain)"
   ]
  },
  {
   "cell_type": "markdown",
   "metadata": {},
   "source": [
    "## Some information about the input data\n",
    "Different plots from **creep** data:\n",
    "1. creep vs time\n",
    "2. log10(creep) vs log10(time)\n",
    "\n",
    "Different plots from **dynamic modulus** data:\n",
    "1. Edyn vs frequency\n",
    "2. Edyn vs time\n",
    "3. log10(Edyn) vs log10(time)"
   ]
  },
  {
   "cell_type": "code",
   "execution_count": 12,
   "metadata": {},
   "outputs": [
    {
     "data": {
      "image/png": "[encoded data removed]",
      "text/plain": [
       "<Figure size 432x288 with 1 Axes>"
      ]
     },
     "metadata": {
      "needs_background": "light"
     },
     "output_type": "display_data"
    },
    {
     "data": {
      "image/png": "[encoded data removed]",
      "text/plain": [
       "<Figure size 432x288 with 1 Axes>"
      ]
     },
     "metadata": {
      "needs_background": "light"
     },
     "output_type": "display_data"
    }
   ],
   "source": [
    "temparray=datain.iloc[:,0].unique()\n",
    "\n",
    "if datain1==1:\n",
    "    for k in temparray:\n",
    "        tempselection=datain[datain.iloc[:,0]==k]\n",
    "        plt.plot(tempselection.iloc[:,1],tempselection.iloc[:,2])\n",
    "    plt.show()\n",
    "    \n",
    "    for k in temparray:\n",
    "        tempselection=datain[datain.iloc[:,0]==k]\n",
    "        plt.plot(np.log10(tempselection.iloc[:,1]),np.log10(tempselection.iloc[:,2]))\n",
    "    plt.show()\n",
    "    \n",
    "else:\n",
    "    for k in temparray:\n",
    "        tempselection=datain[datain.iloc[:,0]==k]\n",
    "        plt.plot(tempselection.iloc[:,1],tempselection.iloc[:,2])\n",
    "    plt.show()\n",
    "\n",
    "    for k in temparray:\n",
    "        tempselection=datain[datain.iloc[:,0]==k]\n",
    "        plt.plot(1/tempselection.iloc[:,1],tempselection.iloc[:,2])\n",
    "    plt.show()\n",
    "\n",
    "    for k in temparray:\n",
    "        tempselection=datain[datain.iloc[:,0]==k]\n",
    "        plt.plot(np.log10(1/tempselection.iloc[:,1]),np.log10(tempselection.iloc[:,2]))\n",
    "    plt.show()"
   ]
  },
  {
   "cell_type": "markdown",
   "metadata": {},
   "source": [
    "Optimization of 2nd order polynomial function onto log-log creep(time) data"
   ]
  },
  {
   "cell_type": "code",
   "execution_count": 13,
   "metadata": {},
   "outputs": [
    {
     "name": "stdout",
     "output_type": "stream",
     "text": [
      "\n",
      "Polynomial fit \"a.x²+b.x+c\" for temperature = -20 ºC\n",
      "Results :\n",
      "a =  0.016762007692050378 +/- 0.0005908969293155514\n",
      "b =  0.04407328468372216 +/- 0.0018424940962699133\n",
      "c =  -1.344916809247515 +/- 0.001189557991796078\n",
      "R² = 0.9998060648489542\n",
      "\n",
      "Polynomial fit \"a.x²+b.x+c\" for temperature = -10 ºC\n",
      "Results :\n",
      "a =  0.03243472811496347 +/- 0.0017247587169646238\n",
      "b =  0.046507823900791764 +/- 0.0053780234903025815\n",
      "c =  -1.2346139293533427 +/- 0.0034721794664184466\n",
      "R² = 0.9992986054868952\n",
      "\n",
      "Polynomial fit \"a.x²+b.x+c\" for temperature = 0 ºC\n",
      "Results :\n",
      "a =  0.03841515267268902 +/- 0.0005233612311514409\n",
      "b =  0.10020482701830132 +/- 0.0016319088302037229\n",
      "c =  -1.001511981280431 +/- 0.0010535989534306409\n",
      "R² = 0.9999708182973699\n"
     ]
    },
    {
     "data": {
      "image/png": "[encoded data removed]",
      "text/plain": [
       "<Figure size 432x288 with 1 Axes>"
      ]
     },
     "metadata": {
      "needs_background": "light"
     },
     "output_type": "display_data"
    }
   ],
   "source": [
    "i=0\n",
    "polyA=np.zeros((len(temparray),3))\n",
    "\n",
    "def polylogJ(x,u,v,w):\n",
    "    # define the function to optimize on log(J)-log(t) data\n",
    "    return u*x**2+v*x+w\n",
    "\n",
    "for k in temparray:\n",
    "    tempselection=datain[datain.iloc[:,0]==k]\n",
    "    t=np.log10(tempselection.iloc[:,1])\n",
    "    CC=np.log10(tempselection.iloc[:,2])\n",
    "        \n",
    "    ppolyCC,pcov=curve_fit(polylogJ,t,CC)\n",
    "    polyA[i,:]=ppolyCC\n",
    "    CCcalc=polylogJ(t,*ppolyCC)\n",
    "    print('\\nPolynomial fit \"a.x²+b.x+c\" for temperature =',k,'ºC\\nResults :')\n",
    "    print('a = ',ppolyCC[0],'+/-',pcov[0,0]**0.5)\n",
    "    print('b = ',ppolyCC[1],'+/-',pcov[1,1]**0.5)\n",
    "    print('c = ',ppolyCC[2],'+/-',pcov[2,2]**0.5)\n",
    "                \n",
    "    \n",
    "    residuals=CC-CCcalc\n",
    "    ss_res=np.sum(residuals**2)\n",
    "    ss_tot=np.sum((CC-np.mean(CC))**2)\n",
    "    r_squared=1-(ss_res/ss_tot)\n",
    "    print('R² = '+str(r_squared))\n",
    "    #standard deviation errors on the parameters use perr = np.sqrt(np.diag(pcov))\n",
    "    #print('a =', popt[0], '+/-', pcov[0,0]**0.5)\n",
    "    #print('b =', popt[1], '+/-', pcov[1,1]**0.5)\n",
    "    \n",
    "    plt.plot(t,CC,'bs')\n",
    "    plt.plot(t,CCcalc)\n",
    "    i+=1\n",
    "    \n",
    "plt.show()"
   ]
  },
  {
   "cell_type": "markdown",
   "metadata": {},
   "source": [
    "## Tref & shift\n",
    "1. Chose the reference temperature\n",
    "2. Calculation of mean shift to apply on other temperature data"
   ]
  },
  {
   "cell_type": "code",
   "execution_count": 14,
   "metadata": {},
   "outputs": [
    {
     "name": "stdout",
     "output_type": "stream",
     "text": [
      "Chose between one the following temperature as reference temperature Tref [-20 -10   0]\n",
      "-20\n",
      "[-1.38979493 -3.30530378]\n"
     ]
    }
   ],
   "source": [
    "tref=int(input('Chose between one the following temperature as reference temperature Tref '+str(temparray)+'\\n'))\n",
    "trefInd=np.where(temparray==tref)\n",
    "trefInd=int(trefInd[0])\n",
    "temparray2=np.delete(temparray,trefInd)\n",
    "\n",
    "i=0\n",
    "xmean=np.zeros(len(temparray2))\n",
    "\n",
    "for k in temparray2:\n",
    "    tempselection=datain[datain.iloc[:,0]==k]\n",
    "    t=np.log10(tempselection.iloc[:,1])\n",
    "    CC=np.log10(tempselection.iloc[:,2])\n",
    "    \n",
    "    shift=(-polyA[trefInd,1]+np.sqrt(polyA[trefInd,1]**2-4*polyA[trefInd,0]*(polyA[trefInd,2]-CC)))/(2*polyA[trefInd,0])\n",
    "    xshift=t-shift\n",
    "    \n",
    "    xmean[i]=np.mean(xshift)\n",
    "    i+=1\n",
    "    \n",
    "print(xmean)"
   ]
  },
  {
   "cell_type": "markdown",
   "metadata": {},
   "source": [
    "3. Shift realized using the \"Equivalent Slope Method\" from [Saboo]\n",
    "4. Plot the Creep Compliance Master Curve (CCMC) using this shifting method"
   ]
  },
  {
   "cell_type": "code",
   "execution_count": 15,
   "metadata": {},
   "outputs": [
    {
     "data": {
      "image/png": "[encoded data removed]",
      "text/plain": [
       "<Figure size 432x288 with 1 Axes>"
      ]
     },
     "metadata": {
      "needs_background": "light"
     },
     "output_type": "display_data"
    }
   ],
   "source": [
    "logtr=np.zeros(len(datain.iloc[:,0]))\n",
    "tr=np.zeros(len(datain.iloc[:,0]))\n",
    "\n",
    "for k in range(len(tr)):\n",
    "    if datain.iloc[k,0]==tref:\n",
    "        logtr[k]=np.log10(datain.iloc[k,1])\n",
    "    for tt in range(len(temparray2)):\n",
    "        if datain.iloc[k,0]==temparray2[tt]:\n",
    "            logtr[k]=np.log10(datain.iloc[k,1])-xmean[tt]\n",
    "\n",
    "tr=10**(logtr)\n",
    "J=datain.iloc[:,2]\n",
    "logJ=np.log10(J)\n",
    "\n",
    "plt.plot(tr,J,'bo')\n",
    "plt.yscale('log')\n",
    "plt.xscale('log')\n",
    "plt.show()"
   ]
  },
  {
   "cell_type": "markdown",
   "metadata": {},
   "source": [
    "## Optimize log(aT) - WLF model - function\n",
    "> Recover parameters plogat[0] and plogat[1]"
   ]
  },
  {
   "cell_type": "code",
   "execution_count": 16,
   "metadata": {},
   "outputs": [
    {
     "name": "stdout",
     "output_type": "stream",
     "text": [
      "log(at) parameters = [ 7322.52089992 45745.88541045]\n",
      "R² = -1.7372495943890773\n"
     ]
    },
    {
     "data": {
      "image/png": "[encoded data removed]",
      "text/plain": [
       "<Figure size 432x288 with 1 Axes>"
      ]
     },
     "metadata": {
      "needs_background": "light"
     },
     "output_type": "display_data"
    }
   ],
   "source": [
    "ylogat=np.append(xmean,0)\n",
    "temparray3=np.append(temparray2,tref)\n",
    "\n",
    "def logat(x,u,v):\n",
    "    # log(at) function\n",
    "    return -u*(x-tref)/(v+x-tref)\n",
    "\n",
    "plogat,pcov=curve_fit(logat,temparray3,ylogat,bounds=(0,np.inf),method='trf')\n",
    "print('log(at) parameters = '+str(plogat))\n",
    "\n",
    "logatcalc=logat(temparray,*plogat)\n",
    "\n",
    "residuals = ylogat- logatcalc\n",
    "ss_res = np.sum(residuals**2)\n",
    "ss_tot = np.sum((ylogat-np.mean(ylogat))**2)\n",
    "r_squared = 1 - (ss_res / ss_tot)\n",
    "print('R² = '+str(r_squared))\n",
    "\n",
    "plt.plot(temparray3,ylogat,'bs')\n",
    "plt.plot(temparray,logatcalc,'g-')\n",
    "plt.show()"
   ]
  },
  {
   "cell_type": "markdown",
   "metadata": {},
   "source": [
    "## Optimize Prony Serie onto CCMC\n",
    "> parameters paramJ[0]=J0 ; paramJ[1:2]={J1;tau1} ... ; paramJ[-1]=$\\frac{1}{\\eta_f}$"
   ]
  },
  {
   "cell_type": "code",
   "execution_count": 17,
   "metadata": {},
   "outputs": [
    {
     "name": "stdout",
     "output_type": "stream",
     "text": [
      "How many terms of the Prony serie do you want to use to model the CCMC?\n",
      " n = 5\n",
      "Prony J serie parameters = [4.54122490e-02 1.53084920e-02 1.34990007e+00 7.88499374e-02\n",
      " 5.22394543e+00 2.53585418e-02 2.80045308e+00 4.15837510e-01\n",
      " 6.41147606e+00 5.24183433e-02 3.99681017e+00 7.38680350e-15]\n",
      "R² = 0.9990549643949092\n"
     ]
    },
    {
     "data": {
      "image/png": "[encoded data removed]",
      "text/plain": [
       "<Figure size 432x288 with 1 Axes>"
      ]
     },
     "metadata": {
      "needs_background": "light"
     },
     "output_type": "display_data"
    }
   ],
   "source": [
    "CC={'tr':tr,'J':J}\n",
    "CCMC=pd.DataFrame(data=CC)\n",
    "CCMC.sort_values(by=['tr'], inplace=True)\n",
    "ttr=np.array(CCMC.iloc[:,0])\n",
    "JJ=np.array(CCMC.iloc[:,1])\n",
    "\n",
    "def make_pronyJ(nn):\n",
    "    def pronyJ(x,*p):\n",
    "        prony=p[0]\n",
    "        for i in range(1,2*nn,2):\n",
    "            prony+=p[i]*(1-np.exp(-x/10**p[i+1]))\n",
    "        prony+=x*p[2*nn+1]\n",
    "        return prony\n",
    "    return pronyJ\n",
    "\n",
    "nn=int(input('How many terms of the Prony serie do you want to use to model the CCMC?\\n n = '))\n",
    "fit_pronyJ=make_pronyJ(nn)\n",
    "\n",
    "paramJ,pcov=curve_fit(fit_pronyJ,ttr,JJ,p0=[0.0]*(2*nn+2),bounds=(0,np.inf),method='trf')\n",
    "print('Prony J serie parameters = '+str(paramJ))\n",
    "\n",
    "Jcalc=fit_pronyJ(ttr,*paramJ)\n",
    "\n",
    "residuals = JJ-Jcalc\n",
    "ss_res = np.sum(residuals**2)\n",
    "ss_tot = np.sum((JJ-np.mean(JJ))**2)\n",
    "r_squared = 1 - (ss_res / ss_tot)\n",
    "print('R² = '+str(r_squared))\n",
    "\n",
    "tsim=np.logspace(0.1,7,50)\n",
    "Jsim=fit_pronyJ(tsim,*paramJ)\n",
    "\n",
    "plt.plot(ttr,JJ,'bs')\n",
    "plt.plot(ttr,Jcalc,'ro')\n",
    "plt.plot(tsim,Jsim)\n",
    "plt.yscale('log')\n",
    "plt.xscale('log')\n",
    "plt.show()"
   ]
  },
  {
   "cell_type": "markdown",
   "metadata": {},
   "source": [
    "## Interconvertion CCMC > E* Master Curve (EMC) [Park1999]\n",
    "## Optimization of Prony Series onto EMC\n",
    "> parameters paramE[0]=Gg ; paramE[1:2]={G1;tauG1} ..."
   ]
  },
  {
   "cell_type": "code",
   "execution_count": 18,
   "metadata": {},
   "outputs": [
    {
     "name": "stdout",
     "output_type": "stream",
     "text": [
      "How many terms of the Prony serie do you want to use to model the Dynamic Modulus E*?\n",
      " n = 7\n",
      "Prony E serie parameters = [22.00580887  4.01716415  1.36296647  2.63787866  5.9546809   3.8548392\n",
      "  3.89751097  2.54685604  5.00169083  1.78179065  3.06819041  1.6079369\n",
      "  0.99513428  3.58188415  2.5845471 ]\n",
      "R² = 0.9999984555677813\n"
     ]
    },
    {
     "data": {
      "image/png": "[encoded data removed]",
      "text/plain": [
       "<Figure size 432x288 with 1 Axes>"
      ]
     },
     "metadata": {
      "needs_background": "light"
     },
     "output_type": "display_data"
    }
   ],
   "source": [
    "def make_dpronyJ(nn):\n",
    "    def dpronyJ(x,*p):\n",
    "        dprony=0\n",
    "        for i in range(1,2*nn+1,2):\n",
    "            dprony+=(p[i]/10**p[i+1])*np.exp(-x/10**p[i+1])\n",
    "        dprony+=p[2*nn+1]\n",
    "        return dprony\n",
    "    return dpronyJ\n",
    "\n",
    "dpronyJ1=make_dpronyJ(nn)\n",
    "dpronyJ=dpronyJ1(ttr,*paramJ)\n",
    "\n",
    "n=dpronyJ/(ttr*Jcalc)\n",
    "alpha=(np.sin(n*np.pi)/(n*np.pi))**(1/n)\n",
    "Dtalpha=fit_pronyJ(ttr/alpha,*paramJ)\n",
    "E=1/Dtalpha\n",
    "\n",
    "def make_pronyE(nn):\n",
    "    def pronyE(x,*p):\n",
    "        prony=p[0]\n",
    "        for i in range(1,2*nn,2):\n",
    "            prony+=p[i]*(np.exp(-x/10**p[i+1])-1)\n",
    "        return prony\n",
    "    return pronyE\n",
    "\n",
    "nn2=int(input('How many terms of the Prony serie do you want to use to model the Dynamic Modulus E*?\\n n = '))\n",
    "fit_pronyE=make_pronyE(nn2)\n",
    "\n",
    "paramE,pcov=curve_fit(fit_pronyE,ttr,E,p0=[0.0]*(2*nn2+1),bounds=(0,np.inf),method='trf')\n",
    "print('Prony E serie parameters = '+str(paramE))\n",
    "\n",
    "Ecalc=fit_pronyE(ttr,*paramE)\n",
    "\n",
    "residuals = E-Ecalc\n",
    "ss_res = np.sum(residuals**2)\n",
    "ss_tot = np.sum((E-np.mean(E))**2)\n",
    "r_squared = 1 - (ss_res / ss_tot)\n",
    "print('R² = '+str(r_squared))\n",
    "\n",
    "Esim=fit_pronyE(tsim,*paramE)\n",
    "\n",
    "plt.plot(ttr,E,'bs')\n",
    "plt.plot(ttr,Ecalc,'ro')\n",
    "plt.plot(tsim,Esim,'g')\n",
    "plt.yscale('log')\n",
    "plt.xscale('log')\n",
    "plt.show()"
   ]
  },
  {
   "cell_type": "markdown",
   "metadata": {},
   "source": [
    "# INPUT FROM E* DATA"
   ]
  },
  {
   "cell_type": "raw",
   "metadata": {},
   "source": [
    "temparray=excelinE.iloc[:,0].unique()\n",
    "\n",
    "for k in temparray:\n",
    "    tempselection=excelinE[excelinE.iloc[:,0]==k]\n",
    "    plt.plot(tempselection.iloc[:,1],tempselection.iloc[:,2])\n",
    "    \n",
    "plt.show()"
   ]
  },
  {
   "cell_type": "raw",
   "metadata": {},
   "source": [
    "for k in temparray:\n",
    "    tempselection=excelinE[excelinE.iloc[:,0]==k]\n",
    "    plt.plot(1/tempselection.iloc[:,1],tempselection.iloc[:,2])\n",
    "    \n",
    "plt.show()"
   ]
  },
  {
   "cell_type": "raw",
   "metadata": {},
   "source": [
    "for k in temparray:\n",
    "    tempselection=excelinE[excelinE.iloc[:,0]==k]\n",
    "    plt.plot(np.log10(1/tempselection.iloc[:,1]),np.log10(tempselection.iloc[:,2]))\n",
    "    \n",
    "plt.show()"
   ]
  },
  {
   "cell_type": "markdown",
   "metadata": {},
   "source": [
    "## Optimization of 1st order polynomial function (linear) onto log-log E*(time) data"
   ]
  },
  {
   "cell_type": "raw",
   "metadata": {},
   "source": [
    "i=0\n",
    "linA=np.zeros((len(temparray),2))\n",
    "\n",
    "def linlogE(x,u,v):\n",
    "    # define the function to optimize on log(J)-log(t) data\n",
    "    return u*x+v\n",
    "\n",
    "for k in temparray:\n",
    "    tempselection=excelinE[excelinE.iloc[:,0]==k]\n",
    "    t=np.log10(1/tempselection.iloc[:,1])\n",
    "    Edyn=np.log10(tempselection.iloc[:,2])\n",
    "        \n",
    "    linEdyn,pcov=curve_fit(linlogE,t,Edyn)\n",
    "    linA[i,:]=linEdyn\n",
    "    Edyncalc=linlogE(t,*linEdyn)\n",
    "    print('linfit parameters = '+str(linEdyn))\n",
    "    \n",
    "    residuals=Edyn-Edyncalc\n",
    "    ss_res=np.sum(residuals**2)\n",
    "    ss_tot=np.sum((Edyn-np.mean(Edyn))**2)\n",
    "    r_squared=1-(ss_res/ss_tot)\n",
    "    print('R² = '+str(r_squared))\n",
    "    \n",
    "    plt.plot(t,Edyn,'bs')\n",
    "    plt.plot(t,Edyncalc)\n",
    "    i+=1\n",
    "    \n",
    "plt.show()"
   ]
  },
  {
   "cell_type": "markdown",
   "metadata": {},
   "source": [
    "## Tref & shift\n",
    "1. Chose the reference temperature\n",
    "2. Calculation of mean shift to apply on other temperature data"
   ]
  },
  {
   "cell_type": "raw",
   "metadata": {},
   "source": [
    "tref=int(input('Chose between one the following temperature as reference temperature Tref '+str(temparray)+'\\n'))\n",
    "trefInd=np.where(temparray==tref)\n",
    "trefInd=int(trefInd[0])\n",
    "temparray2=np.delete(temparray,trefInd)\n",
    "\n",
    "i=0\n",
    "xmean=np.zeros(len(temparray2))\n",
    "\n",
    "for k in temparray2:\n",
    "    tempselection=excelinE[excelinE.iloc[:,0]==k]\n",
    "    t=np.log10(1/tempselection.iloc[:,1])\n",
    "    Edyn=np.log10(tempselection.iloc[:,2])\n",
    "    \n",
    "    shift=(Edyn-linA[trefInd,1])/linA[trefInd,0]\n",
    "    xshift=t-shift\n",
    "    \n",
    "    xmean[i]=np.mean(xshift)\n",
    "    i+=1\n",
    "    \n",
    "print(xmean)"
   ]
  },
  {
   "cell_type": "markdown",
   "metadata": {},
   "source": [
    "3. Shift realized using the \"Equivalent Slope Method\" from [Saboo]\n",
    "4. Plot the Dynamic Modulus Master Curve (DMMC/EMC) using this shifting method"
   ]
  },
  {
   "cell_type": "raw",
   "metadata": {},
   "source": [
    "logtr=np.zeros(len(excelinE.iloc[:,0]))\n",
    "tr=np.zeros(len(excelinE.iloc[:,0]))\n",
    "\n",
    "for k in range(len(tr)):\n",
    "    if excelinE.iloc[k,0]==tref:\n",
    "        logtr[k]=np.log10(1/excelinE.iloc[k,1])\n",
    "    for tt in range(len(temparray2)):\n",
    "        if excelinE.iloc[k,0]==temparray2[tt]:\n",
    "            logtr[k]=np.log10(1/excelinE.iloc[k,1])-xmean[tt]\n",
    "\n",
    "tr=10**(logtr)\n",
    "E=excelinE.iloc[:,2]\n",
    "logE=np.log10(E)\n",
    "\n",
    "plt.plot(tr,E,'bo')\n",
    "plt.xscale('log')\n",
    "plt.yscale('log')\n",
    "plt.show()"
   ]
  },
  {
   "cell_type": "markdown",
   "metadata": {},
   "source": [
    "## Optimization of Prony Series onto EMC\n",
    "> parameters paramEdyn[0]=Gg ; paramEdyn[1:2]={G1;tauG1} ..."
   ]
  },
  {
   "cell_type": "raw",
   "metadata": {},
   "source": [
    "EdIn={'tr':tr,'E*':E}\n",
    "EdMC=pd.DataFrame(data=EdIn)\n",
    "EdMC.sort_values(by=['tr'], inplace=True)\n",
    "ttr=np.array(EdMC.iloc[:,0])\n",
    "Edin=np.array(EdMC.iloc[:,1])\n",
    "\n",
    "nn3=int(input('How many terms of the Prony serie do you want to use to model the Dynamic Modulus E*?\\n n = '))\n",
    "fit_pronyEdyn=make_pronyE(nn3)\n",
    "\n",
    "#paramEdyn,pcov=curve_fit(fit_pronyEdyn,ttr,Edin,p0=[0.0]*(2*nn3+1),bounds=(0,np.inf),method='trf')\n",
    "paramEdyn,pcov=curve_fit(fit_pronyEdyn,ttr,Edin,p0=[0.0]*(2*nn3+1),method='trf')\n",
    "print('Prony E serie parameters = '+str(paramEdyn))\n",
    "\n",
    "EcalcIn=fit_pronyEdyn(ttr,*paramEdyn)\n",
    "\n",
    "residuals = Edin-EcalcIn\n",
    "ss_res = np.sum(residuals**2)\n",
    "ss_tot = np.sum((Edin-np.mean(Edin))**2)\n",
    "r_squared = 1 - (ss_res / ss_tot)\n",
    "print('R² = '+str(r_squared))\n",
    "\n",
    "tsim2=np.logspace(-4,5,50)\n",
    "Esim2=fit_pronyEdyn(tsim2,*paramEdyn)\n",
    "\n",
    "plt.plot(ttr,Edin,'bs')\n",
    "plt.plot(ttr,EcalcIn,'ro')\n",
    "plt.plot(tsim2,Esim2,'g')\n",
    "plt.xscale('log')\n",
    "plt.yscale('log')\n",
    "plt.show()"
   ]
  },
  {
   "cell_type": "markdown",
   "metadata": {},
   "source": [
    "## Linear interpolation and small discretization of time-temperature evolution"
   ]
  },
  {
   "cell_type": "code",
   "execution_count": 19,
   "metadata": {},
   "outputs": [
    {
     "data": {
      "image/png": "[encoded data removed]",
      "text/plain": [
       "<Figure size 432x288 with 1 Axes>"
      ]
     },
     "metadata": {
      "needs_background": "light"
     },
     "output_type": "display_data"
    }
   ],
   "source": [
    "tinterp=np.linspace(0,time[-1],(len(time)-1)*10+1)\n",
    "#tinterp[0]=time[0]\n",
    "tinterp[0]=1e-4\n",
    "\n",
    "Tinterp=np.zeros((len(tinterp),len(z)))\n",
    "\n",
    "time0=time\n",
    "time0[0]=0\n",
    "\n",
    "for k in range(len(z)): Tinterp[:,k]=np.interp(tinterp,time0,ftemp[:,k])\n",
    "\n",
    "plt.plot(time[0:4],ftemp[0:4,0],'o')\n",
    "plt.plot(tinterp[0:31],Tinterp[0:31,0],'-x')\n",
    "plt.show()"
   ]
  },
  {
   "cell_type": "code",
   "execution_count": 20,
   "metadata": {
    "scrolled": false
   },
   "outputs": [
    {
     "name": "stdout",
     "output_type": "stream",
     "text": [
      "Time you want to plot [h]?\n",
      " tstress = 2\n",
      "\n",
      "Thermal stress values at different depth [psi]:\n",
      "[1.63608835e-12 1.14898902e-12 7.64337766e-13 4.91368256e-13\n",
      " 3.01024667e-13 1.92074879e-13]\n",
      "\n",
      "Steps to compute for 2h stress calculation:\n",
      "[[3.98486000e+07 4.19650590e+07 4.23301350e+07 4.18664640e+07\n",
      "  4.15535940e+07 4.14010050e+07]\n",
      " [4.78599680e+07 4.66422570e+07 4.48570180e+07 4.32084200e+07\n",
      "  4.22510670e+07 4.17894470e+07]\n",
      " [5.70550420e+07 5.16869860e+07 4.74745640e+07 4.45610150e+07\n",
      "  4.29361850e+07 4.21597180e+07]\n",
      " [6.76125410e+07 5.71477800e+07 5.02077260e+07 4.59455240e+07\n",
      "  4.36296560e+07 4.25324540e+07]\n",
      " [7.97131840e+07 6.30552660e+07 5.30610540e+07 4.73626190e+07\n",
      "  4.43315710e+07 4.29076680e+07]\n",
      " [9.35602270e+07 6.94421910e+07 5.60392660e+07 4.88129810e+07\n",
      "  4.50420210e+07 4.32853750e+07]\n",
      " [1.09382161e+08 7.63435580e+07 5.91472530e+07 5.02973090e+07\n",
      "  4.57611000e+07 4.36655900e+07]\n",
      " [1.27435735e+08 8.37967770e+07 6.23900860e+07 5.18163130e+07\n",
      "  4.64888990e+07 4.40483270e+07]\n",
      " [1.48009317e+08 9.18418270e+07 6.57730240e+07 5.33707160e+07\n",
      "  4.72255150e+07 4.44336020e+07]\n",
      " [1.71426659e+08 1.00521422e+08 6.93015180e+07 5.49612590e+07\n",
      "  4.79710410e+07 4.48214300e+07]\n",
      " [1.73447670e+08 1.19624689e+08 8.98837920e+07 7.26482460e+07\n",
      "  6.24132260e+07 5.64637960e+07]]\n"
     ]
    }
   ],
   "source": [
    "\n",
    "# WRONG > QINGWEN CHANGED IT\n",
    "def ilogat(x,u,v):\n",
    "    # -1/logat function! And confusion in C1/C2 param position\n",
    "    return (u+x-tref)/(v*(x-tref))\n",
    "    #return (v+x-tref)/(u*(x-tref)) # correction of the switch between C1 & C2 param\n",
    "\n",
    "lat=logat(Tinterp,*plogat)\n",
    "tsec=tinterp*3600\n",
    "\n",
    "Xi=np.zeros((len(tinterp),len(z)))\n",
    "Xdelta=np.zeros((len(tinterp)-1,len(z)))\n",
    "Tdexi=np.zeros((len(tinterp)-1,len(z)))\n",
    "Xstep=np.zeros((len(tinterp)-1,len(z)))\n",
    "\n",
    "for k in range(len(z)):\n",
    "     \n",
    "    # WRONG > QINGWEN CHANGED IT\n",
    "    # > log(tsec)-log(10)=log(tsec/10)!=log10(tsec)\n",
    "    #Xi[:,k]=10**(np.log(tsec)-np.log(10)-lat[:,k])\n",
    "    # > log10(tsec)=log(tsec)/log(10)\n",
    "    #Xi[:,k]=10**(np.log(tsec/10)-lat[:,k])\n",
    "    \n",
    "    \n",
    "    Xi[:,k]=10**(np.log10(tsec)-lat[:,k]) \n",
    "    \n",
    "    Xdelta[:,k]=np.diff(Xi[:,k])\n",
    "    Tdexi[:,k]=np.diff(Tinterp[:,k])/Xdelta[:,k]\n",
    "    Xstep[:,k]=np.int_(Xdelta[:,k]/10)\n",
    "\n",
    "tstress=int(input('Time you want to plot [h]?\\n tstress = '))\n",
    "\n",
    "stress=np.zeros((len(z)))\n",
    "\n",
    "'''\n",
    "for tt in range(len(tinterp)):\n",
    "    if tstress>=tinterp[tt]:\n",
    "        for zz in range(len(z)):\n",
    "            #for k in range(int(Xstep[tt,zz])):\n",
    "            for k in range(1):\n",
    "                if Xdelta[tt,zz] > 0:\n",
    "                    stress[zz]=+fit_pronyE((Xi[tt+1,zz]-k*10),*paramE)*Tdexi[tt,zz]*10*bmix\n",
    "                else:\n",
    "                    stress[zz]=+fit_pronyE((Xi[tt+1,zz]+k*10),*paramE)*Tdexi[tt,zz]*10*bmix\n",
    "    else: break\n",
    "'''\n",
    "\n",
    "#Faster integration test > avoid looping on condition\n",
    "        \n",
    "for tt in range(len(tinterp)):\n",
    "    if tstress>=tinterp[tt]:\n",
    "        for zz in range(len(z)):\n",
    "            c=1\n",
    "            if Xdelta[tt,zz]>0: c=-1\n",
    "            #for k in range(int(Xstep[tt,zz])):\n",
    "            for k in range(1):\n",
    "                stress[zz]+=fit_pronyE((Xi[tt+1,zz]+c*k*10),*paramE)*Tdexi[tt,zz]*10*bmix\n",
    "    else: break\n",
    "\n",
    "indexloop=np.where(tinterp>tstress)\n",
    "        \n",
    "print('\\nThermal stress values at different depth [psi]:\\n'+str(stress))\n",
    "print('\\nSteps to compute for 2h stress calculation:\\n'+str(Xstep[0:indexloop[0][0],:]))"
   ]
  },
  {
   "cell_type": "code",
   "execution_count": 23,
   "metadata": {},
   "outputs": [
    {
     "data": {
      "image/png": "[encoded data removed]",
      "text/plain": [
       "<Figure size 432x288 with 1 Axes>"
      ]
     },
     "metadata": {
      "needs_background": "light"
     },
     "output_type": "display_data"
    }
   ],
   "source": [
    "# Comparison w/ Qingwen : GPa > PSI & cm > in\n",
    "plt.plot(stress*145038,z*0.3937008)\n",
    "plt.show()"
   ]
  },
  {
   "cell_type": "code",
   "execution_count": 24,
   "metadata": {},
   "outputs": [
    {
     "name": "stdout",
     "output_type": "stream",
     "text": [
      "True\n"
     ]
    }
   ],
   "source": [
    "# Check on Xdelta values > if all false then any(Xdelta)=False\n",
    "\n",
    "check=np.ones(zz,dtype='bool')\n",
    "\n",
    "Xdelta[6,3]=-5\n",
    "\n",
    "for k in range(zz):\n",
    "    check[k]=any(Xdelta[:,k]<=0)\n",
    "\n",
    "# if all check[k] false, then any(check)=False / if there's 1 Xdelta value <=0, then any(check)=True\n",
    "print(any(check))"
   ]
  },
  {
   "cell_type": "code",
   "execution_count": null,
   "metadata": {},
   "outputs": [],
   "source": []
  }
 ],
 "metadata": {
  "kernelspec": {
   "display_name": "Python 3",
   "language": "python",
   "name": "python3"
  },
  "language_info": {
   "codemirror_mode": {
    "name": "ipython",
    "version": 3
   },
   "file_extension": ".py",
   "mimetype": "text/x-python",
   "name": "python",
   "nbconvert_exporter": "python",
   "pygments_lexer": "ipython3",
   "version": "3.8.5"
  }
 },
 "nbformat": 4,
 "nbformat_minor": 4
}
