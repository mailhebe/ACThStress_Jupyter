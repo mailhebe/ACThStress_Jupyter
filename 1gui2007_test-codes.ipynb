{
 "cells": [
  {
   "cell_type": "markdown",
   "id": "9e21d4d7",
   "metadata": {},
   "source": [
    "# Failed time discretization and interpolation"
   ]
  },
  {
   "cell_type": "raw",
   "id": "e3c24345",
   "metadata": {},
   "source": [
    "# Discretization 3 min (base 60) == 0.05 (base 10)\n",
    "# > Avoid infinite floats in time discretization\n",
    "\n",
    "time_interp = np.linspace(0,len(time)-1,len(time)*20-19)\n",
    "\n",
    "temp_atm_interp = np.interp(time_interp,time,temp_atm)\n",
    "temp_dewpt_interp = np.interp(time_interp,time,temp_dewpt)\n",
    "solar_rad_interp = np.interp(time_interp,time,solar_rad)\n",
    "wind_speed_interp = np.interp(time_interp,time,wind_speed)\n",
    "\n",
    "time_interval=time_interp[1]-time_interp[0] # [h]\n",
    "time_interval_sec=time_interval*3600 # [s]"
   ]
  },
  {
   "cell_type": "markdown",
   "id": "3e1e77bd",
   "metadata": {},
   "source": [
    "# Test for time-space recurring scheme with conditional equation depending on spatial position"
   ]
  },
  {
   "cell_type": "raw",
   "id": "c6649b2c",
   "metadata": {},
   "source": [
    "for time in range(1,3):\n",
    "    print('\\n###########')\n",
    "    print('time it. '+str(time))\n",
    "    print('###########\\n')\n",
    "    for depth in range(0,50):\n",
    "        depth_m=round(depth*node_spacing,2)\n",
    "        if depth_m==0: \n",
    "            print('depth = '+str(depth_m)+' - surface calc\\n')\n",
    "        elif depth_m<=pavement_depth[-1]:\n",
    "            for interface in range(len(pavement_depth)):\n",
    "                if depth_m<pavement_depth[interface]:\n",
    "                    print('depth = '+str(depth_m)+' < '+str(pavement_depth[interface])+' - internal calc')\n",
    "                    break\n",
    "                elif depth_m==pavement_depth[interface]:\n",
    "                    print('\\ndepth == '+str(pavement_depth[interface])+' - interface calc\\n')\n",
    "                    break\n",
    "        else:\n",
    "            print('depth = '+str(depth_m)+' > '+str(pavement_depth[-1])+' - deep ground calc')"
   ]
  },
  {
   "cell_type": "markdown",
   "id": "3557a833",
   "metadata": {},
   "source": [
    "# Implementation of former scheme \n",
    "\n",
    "## NO nonlinearity > NO hrad/hinf actualization\n",
    "\n",
    "## hrad and hinf calculated for all time-step prior to time-space profile calculation"
   ]
  },
  {
   "cell_type": "markdown",
   "id": "645b61cc",
   "metadata": {},
   "source": [
    "$$h_{rad}=\\Psi_{sky}\\varepsilon\\sigma\\left(T_{surface}^2+T_{sky}^2\\right)\\left(T_{surface}+T_{sky}\\right)$$  \n",
    "\n",
    "With:  \n",
    "-- $h_{rad}$ the abbreviated parameter for outgoing radiative coefficient []  \n",
    "-- $\\Psi_{sky}$ the sky view factor []  \n",
    "-- $\\varepsilon$ the infrared emissivity of the surface []  \n",
    "-- $\\sigma=5.67e^{-8}$ the Stefan-Boltzmann constant [W/m²/K⁴]  \n",
    "-- $T_{surface}$ the pavement surface temperature [K]"
   ]
  },
  {
   "cell_type": "raw",
   "id": "bf8ffcd0",
   "metadata": {},
   "source": [
    "hrad = sky_view_factor*surface_emissivity*stefan_boltzmann*(profile[:,0]**2+temp_sky_interp**2)*(profile[:,0]+temp_sky_interp)"
   ]
  },
  {
   "cell_type": "markdown",
   "id": "f81176b4",
   "metadata": {},
   "source": [
    "**Air film properties** inputs are for interpolation and/or extrapolation of quantities at the air film temperature [K]:\n",
    "\n",
    "$$T_{film}=\\frac{T_{surface}+T_{atm}}{2}$$"
   ]
  },
  {
   "cell_type": "raw",
   "id": "5711e7ec",
   "metadata": {},
   "source": [
    "film_temp = 0.5*(profile[:,0]+temp_atm_interp)\n",
    "\n",
    "film_viscosity = ((film_temp-ref_temp_flow[0])/(ref_temp_flow[1]-ref_temp_flow[0])) \\\n",
    "                 *(ref_viscosity_flow[1]-ref_viscosity_flow[0])+ref_viscosity_flow[0]\n",
    "\n",
    "film_conductivity = ((film_temp-ref_temp_flow[0])/(ref_temp_flow[1]-ref_temp_flow[0])) \\\n",
    "                    *(ref_conductivity_flow[1]-ref_conductivity_flow[0])+ref_conductivity_flow[0]\n",
    "\n",
    "film_diffusivity = ((film_temp-ref_temp_flow[0])/(ref_temp_flow[1]-ref_temp_flow[0])) \\\n",
    "                    *(ref_diffusivity_flow[1]-ref_diffusivity_flow[0])+ref_diffusivity_flow[0]\n",
    "\n",
    "film_prandtl = ((film_temp-ref_temp_flow[0])/(ref_temp_flow[1]-ref_temp_flow[0])) \\\n",
    "               *(ref_prandtl_flow[1]-ref_prandtl_flow[0])+ref_prandtl_flow[0]\n",
    "\n",
    "film_beta = 1 / film_temp"
   ]
  },
  {
   "cell_type": "markdown",
   "id": "b2b73408",
   "metadata": {},
   "source": [
    "## Convection heat transfer calculation\n",
    "\n",
    "### 1st: we check if we have laminar or turbulent air flow  \n",
    "\n",
    "$$Re=\\frac{U_{film}L}{\\nu_{film}}$$\n",
    "\n",
    "If $Re<5e^5$, then the flow is laminar.  \n",
    "Else it is turbulent.  \n",
    "\n",
    "### 2nd: we define the fluid Nusselt number accordingly  \n",
    "\n",
    "For laminar flow:  \n",
    "$$Nu_{laminar}=0.664\\left[Pr^{1/3}Re^{0.5}\\right]$$\n",
    "\n",
    "For turbulent flow:\n",
    "$$Nu_{turbulent}=0.037\\left[Pr^{1/3}Re^{0.8}\\right]$$\n",
    "\n",
    "### 3rd: we calculate the convective heat transfer coefficient of air  \n",
    "\n",
    "For laminar flow:  \n",
    "$$h_{laminar}=0.664\\left[k_{film}Pr^{1/3}\\nu_{film}^{-0.5}L^{-0.5}U_{film}^{0.5}\\right]$$\n",
    "$$h_{laminar}=Nu_{laminar}\\frac{k_{film}}{L}$$\n",
    "\n",
    "For turbulent flow:\n",
    "$$h_{turbulent}=0.037\\left[k_{film}Pr^{1/3}\\nu_{film}^{-0.8}L^{-0.2}U_{film}^{0.8}\\right]$$\n",
    "$$h_{turbulent}=Nu_{turbulent}\\frac{k_{film}}{L}$$\n",
    "\n",
    "With:  \n",
    "-- $Re$ the Reynolds number of air []  \n",
    "-- $U_{film}$ the wind velocity [m/s]  \n",
    "-- $L$ the characteristic length of the pavement [m]  \n",
    "-- $\\nu_{film}$ the kinematic viscosity of air [m²/s]  \n",
    "-- $Nu_{xxx}$ the Nusselt number of air []  \n",
    "-- $Pr$ the Prandtl number of air []  \n",
    "-- $h_{xxx}$ the convective heat transfer coefficient of air []  \n",
    "-- $k_{film}$ the thermal conductivity of air [W/m/K]  "
   ]
  },
  {
   "cell_type": "raw",
   "id": "5fb731f6",
   "metadata": {},
   "source": [
    "film_reynolds = wind_speed_interp * characteristic_length / film_viscosity\n",
    "\n",
    "film_nusselt_laminar = 0.664 * film_reynolds**(0.5) * film_prandtl**(1/3)\n",
    "film_nusselt_turbulent = 0.037 * film_reynolds**(0.8) * film_prandtl**(1/3)\n",
    "\n",
    "film_nusselt_actual = np.zeros((len(film_reynolds)))\n",
    "\n",
    "for i in range(len(film_reynolds)):\n",
    "    if film_reynolds[i]<5e5:\n",
    "        film_nusselt_actual[i]=film_nusselt_laminar[i]\n",
    "    else:\n",
    "        film_nusselt_actual[i]=film_nusselt_turbulent[i]\n",
    "        print('!!! TURBULENT FLOW !!!')\n",
    "        \n",
    "convective_heat_air = film_nusselt_actual * film_conductivity / characteristic_length"
   ]
  },
  {
   "cell_type": "markdown",
   "id": "1a29d377",
   "metadata": {},
   "source": [
    "## Stability verification\n",
    "\n",
    "Calculate Courant-Friedrichs-Lewy - CFL criterion at all time\n",
    "\n",
    "$$\\Delta t \\leq \\frac{\\rho_{surf}c_{surf}\\Delta x^2}{2\\left(h_{rad}\\Delta x + h_{laminar}\\Delta x + k_{surf}\\right)}$$\n",
    "\n",
    "OR  \n",
    "\n",
    "$$\\Delta t \\leq \\frac{\\rho_{surf}c_{surf}\\Delta x^2}{2\\left(h_{rad}\\Delta x + h_{turbulent}\\Delta x + k_{surf}\\right)}$$\n",
    "\n",
    "With:  \n",
    "-- $\\Delta t$ the temporal discretization step [s]  \n",
    "-- $\\rho_{surf}$ the density of the surface layer [kg/m³]  \n",
    "-- $c_{surf}$ the specific heat capacity of the surface layer [J/kg/K]  \n",
    "-- $\\Delta x$ the spatial discretization step [m]  \n",
    "-- $k_{surf}$ the thermal conductivity of the surface layer [W/m/K]"
   ]
  },
  {
   "cell_type": "raw",
   "id": "65ad3f18",
   "metadata": {},
   "source": [
    "delta_t=(node_spacing**2)*density[0]*spec_heat_capacity[0] / (2*(hrad*node_spacing+convective_heat_air*node_spacing+thermal_conductivity[0]))"
   ]
  },
  {
   "cell_type": "markdown",
   "id": "5f55ae49",
   "metadata": {},
   "source": [
    "Check if CFL criterion is respected (ie. CFL > time interval chosen) at all time"
   ]
  },
  {
   "cell_type": "raw",
   "id": "daa1603e",
   "metadata": {},
   "source": [
    "stability = delta_t > time_step"
   ]
  },
  {
   "cell_type": "markdown",
   "id": "bf3b30ff",
   "metadata": {},
   "source": [
    "If all elements in array \"stability\" are True, then np.all() == True"
   ]
  },
  {
   "cell_type": "raw",
   "id": "49c8fbfc",
   "metadata": {},
   "source": [
    "check_stability = np.all(stability)\n",
    "print(check_stability)"
   ]
  },
  {
   "cell_type": "markdown",
   "id": "c5acfa2a",
   "metadata": {},
   "source": [
    "# Time-Space matrix calculation"
   ]
  },
  {
   "cell_type": "raw",
   "id": "a37c170d",
   "metadata": {},
   "source": [
    "profile=np.zeros((len(time_interp),int(ground_layer_depth/node_spacing)+1))\n",
    "#profile[0,:].fill(deep_ground_temp)\n",
    "profile.fill(deep_ground_temp)"
   ]
  },
  {
   "cell_type": "code",
   "execution_count": null,
   "id": "21d7d12f",
   "metadata": {},
   "outputs": [],
   "source": [
    "for time in range(0,profile.shape[0]):\n",
    "    for depth in range(profile.shape[1]):\n",
    "        depth_m=round(depth*node_spacing,2)\n",
    "        if depth_m==0:\n",
    "            profile[time,depth]=(2*time_step)/(density[0]*spec_heat_capacity[0]*node_spacing) * \\\n",
    "                                (solar_view_factor*(1-surface_albedo)*solar_rad_interp[time] + \\\n",
    "                                 convective_heat_air[time]*(temp_atm_interp[time]-profile[time-1,depth]) + \\\n",
    "                                 hrad[time]*(temp_sky_interp[time]-profile[time-1,depth]) + \\\n",
    "                                 (thermal_conductivity[0]/time_step)*(profile[time-1,depth+1]-profile[time-1,depth])) + \\\n",
    "                                profile[time-1,depth]\n",
    "            \n",
    "        elif depth_m<=pavement_depth[-1]:\n",
    "            for interface in range(len(pavement_depth)):\n",
    "                if depth_m<pavement_depth[interface]:\n",
    "                    profile[time,depth] = (time_step)/(density[interface]*spec_heat_capacity[interface]*node_spacing) * \\\n",
    "                                          (thermal_conductivity[interface]/node_spacing * \\\n",
    "                                          (profile[time-1,depth-1]+profile[time-1,depth+1]-2*profile[time-1,depth])) + \\\n",
    "                                          profile[time-1,depth]\n",
    "                    break\n",
    "                    \n",
    "                elif depth_m==pavement_depth[interface]:\n",
    "                    profile[time,depth]=0.5*((2*node_spacing*thermal_conductivity[interface]+ \\\n",
    "                                              thermal_conductivity[interface]*thermal_conductivity[interface+1]*interface_contact_res[interface])* \\\n",
    "                                              profile[time,depth-1]/(thermal_conductivity[interface]*thermal_conductivity[interface+1]*interface_contact_res[interface]+node_spacing*thermal_conductivity[interface]+node_spacing*thermal_conductivity[interface+1]) \\\n",
    "                                            +(2*node_spacing*thermal_conductivity[interface+1]+ \\\n",
    "                                              thermal_conductivity[interface]*thermal_conductivity[interface+1]*interface_contact_res[interface])* \\\n",
    "                                              profile[time,depth+1]/(thermal_conductivity[interface]*thermal_conductivity[interface+1]*interface_contact_res[interface]+node_spacing*thermal_conductivity[interface]+node_spacing*thermal_conductivity[interface+1]) \\\n",
    "                                            )\n",
    "                    if time==1: print('interface nº'+str(interface))\n",
    "                    break\n",
    "                    \n",
    "        elif depth_m!=ground_layer_depth:\n",
    "            profile[time,depth] = (time_step)/(density[-1]*spec_heat_capacity[-1]*node_spacing) * \\\n",
    "                                          (thermal_conductivity[-1]/node_spacing * \\\n",
    "                                          (profile[time-1,depth-1]+profile[time-1,depth+1]-2*profile[time-1,depth])) + \\\n",
    "                                          profile[time-1,depth]\n",
    "            \n",
    "        else:\n",
    "            profile[time,depth] = deep_ground_temp\n",
    "            if time==1: print('deep ground temp reached')\n"
   ]
  },
  {
   "cell_type": "raw",
   "id": "039ea21d",
   "metadata": {},
   "source": [
    "np.linalg.norm(profile,'fro')"
   ]
  },
  {
   "cell_type": "raw",
   "id": "b072f4a3",
   "metadata": {},
   "source": [
    "plt.plot(time_interp,profile[:,0])"
   ]
  }
 ],
 "metadata": {
  "kernelspec": {
   "display_name": "Python 3 (ipykernel)",
   "language": "python",
   "name": "python3"
  },
  "language_info": {
   "codemirror_mode": {
    "name": "ipython",
    "version": 3
   },
   "file_extension": ".py",
   "mimetype": "text/x-python",
   "name": "python",
   "nbconvert_exporter": "python",
   "pygments_lexer": "ipython3",
   "version": "3.9.6"
  }
 },
 "nbformat": 4,
 "nbformat_minor": 5
}
