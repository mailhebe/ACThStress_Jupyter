{
 "cells": [
  {
   "cell_type": "markdown",
   "metadata": {},
   "source": [
    "# Temp profile in AC: calculation and thermal stress estimation\n",
    "\n",
    "First we need the different material input. \n",
    "Do you already have the final mixture, i.e. asphalt concrete (*acc*) properties?\n",
    "If not, properties for both the asphalt cement (*ac*) and aggregate (*agg*) will be required to evaluate mix properties.\n",
    "\n",
    "## Properties needed for **acc**, or **ac** & **agg**:\n",
    "- $\\lambda_{acc/ac/agg}$: volumetric coefficient of thermal contraction [1/C]\n",
    "- $k_{acc/ac/agg}$: thermal conductivity [W/(m.K)]\n",
    "- $\\alpha_{acc/ac/agg}$: thermal diffusivity [m²/s]"
   ]
  },
  {
   "cell_type": "code",
   "execution_count": 1,
   "metadata": {},
   "outputs": [],
   "source": [
    "import math\n",
    "import cmath\n",
    "import numpy as np\n",
    "import pandas as pd\n",
    "from scipy.optimize import curve_fit\n",
    "import matplotlib.pyplot as plt\n",
    "#import matplotlib as mpl"
   ]
  },
  {
   "cell_type": "code",
   "execution_count": 2,
   "metadata": {},
   "outputs": [],
   "source": [
    "#%matplotlib qt\n",
    "%matplotlib inline"
   ]
  },
  {
   "cell_type": "code",
   "execution_count": 3,
   "metadata": {},
   "outputs": [],
   "source": [
    "from func import paramin, indexin"
   ]
  },
  {
   "cell_type": "code",
   "execution_count": 4,
   "metadata": {},
   "outputs": [
    {
     "name": "stdout",
     "output_type": "stream",
     "text": [
      "Do you want to use the asphalt concrete properties (M)\n",
      "or separate properties for asphalt cement and aggregate (S) [default=S]?\n",
      "\n",
      "Do you want to use default material properties? (Y/n)\n",
      "\n"
     ]
    }
   ],
   "source": [
    "mixture=str(input('Do you want to use the asphalt concrete properties (M)\\n\\\n",
    "or separate properties for asphalt cement and aggregate (S) [default=S]?\\n'))\n",
    "default=str(input('Do you want to use default material properties? (Y/n)\\n'))\n",
    "\n",
    "if mixture=='m' or mixture=='M':\n",
    "    if default=='n' or default=='N':\n",
    "        lacc=paramin('linear coeff thermal contraction ACC [1/K] = ')\n",
    "        kacc=paramin('thermal conductivity ACC [W/(m.K)] = ')\n",
    "        aacc=paramin('thermal diffusivity ACC [m^2/s] = ')\n",
    "    else:\n",
    "               \n",
    "        # ACC prop default values\n",
    "        lacc=0.000345\n",
    "        kacc=0.0021\n",
    "        aacc=1.38\n",
    "   \n",
    "        #ambx1\n",
    "#        lacc=2.01e-5\n",
    "#        kacc=0.845\n",
    "#        aacc=3.42e-7\n",
    "        #ambx2\n",
    "#        lacc=2.01e-5\n",
    "#        kacc=0.845\n",
    "#        aacc=4.66e-7\n",
    "\n",
    "        #control\n",
    "#        lacc=2.14e-5\n",
    "#        kacc=1.013\n",
    "#        aacc=5.17e-7\n",
    "        \n",
    "        #control-binder\n",
    "#        lac=3.50e-4\n",
    "#        kac=0.26\n",
    "#        aac=1.28e-7\n",
    "\n",
    "else:\n",
    "    if default=='n' or default=='N':\n",
    "        lac=paramin('linear coeff thermal contraction AC [1/K] = ')\n",
    "        kac=paramin('thermal conductivity AC [W/(m.K)] = ')\n",
    "        aac=paramin('thermal diffusivity AC [m^2/s] = ')\n",
    "        lag=paramin('linear coeff thermal contraction Agg [1/K] = ')\n",
    "        kag=paramin('thermal conductivity Agg [W/(m.K)] = ')\n",
    "        aag=paramin('thermal diffusivity Agg [m^2/s] = ')\n",
    "    else:\n",
    "      \n",
    "        # AC prop default values\n",
    "        lac=0.000345\n",
    "        kac=0.0021\n",
    "        aac=1.38\n",
    "        # Agg prop default values\n",
    "        lag=0.0000095\n",
    "        kag=0.003\n",
    "        aag=1\n",
    "\n",
    "        #ambx1-binder\n",
    "#        lac=3.10e-4\n",
    "#        kac=0.18\n",
    "#        aac=8.29e-8\n",
    "        #ambx2-binder\n",
    "#        lac=3.10e-4\n",
    "#        kac=0.18\n",
    "#        aac=9.95e-8\n",
    "\n",
    "        #control\n",
    "#        lac=3.50e-4\n",
    "#        kac=0.26\n",
    "#        aac=1.28e-7\n",
    "\n",
    "        #aggregates\n",
    "#        lag=1.80e-5\n",
    "#        kag=0.75\n",
    "#        aag=3.55e-7        "
   ]
  },
  {
   "cell_type": "markdown",
   "metadata": {},
   "source": [
    "## Do you already have:\n",
    "- $\\text{VMA}$: intergranular void content in aggregate [%] ?\n",
    "- $V_{eff}$: aggregate volume in mix [%] ?\n",
    "- $B_{mix}$: linear coefficient of thermal contraction of asphalt mix [1/C] ?\n",
    "\n",
    "> ### Then these mixture properties will be required as well as:\n",
    ">> Asphalt mix layer thickness $z_{max}$ [cm]\n",
    "\n",
    "## Mixture design information can also be used to calculate $\\text{VMA}$, $V_{eff}$ and $B_{mix}$:\n",
    "- $VMA=100-Gmb\\cdot\\frac{100-BC}{Gsb}$ [%]\n",
    "- $V_{eff}=Gmb\\cdot\\left(\\frac{100}{Gmm}-\\frac{BC}{Gb}\\right)$ [%]\n",
    "- $B_{mix}=\\frac{VMA\\cdot\\lambda_{ac}+V_{eff}\\cdot\\lambda_{ag}}{300}$ [1/C]\n",
    "\n",
    "> ### In that case, the following mxture properties are needed:\n",
    ">> - Gsb: aggregate bulk specific gravity\n",
    ">> - Gb: binder specific gravity\n",
    ">> - Gmm: asphalt mixture maximum specific gravity\n",
    ">> - AC: Air void content [%vol.]\n",
    ">> - BC: Binder content [%wt.]"
   ]
  },
  {
   "cell_type": "code",
   "execution_count": 5,
   "metadata": {},
   "outputs": [
    {
     "name": "stdout",
     "output_type": "stream",
     "text": [
      "\n",
      "Do you already have VMA, Veff and Bmix? (Y/n)\n",
      "\n",
      "Do you want to use default mixture properties? (Y/n)\n",
      "\n",
      "VMA intergranular void content in aggregate [%] = 18.19\n",
      "Veff aggregate volume in mix [%] = 81.71\n",
      "Bmix linear coefficient of thermal contraction of asphalt mix [1/C] = 2.351e-05\n"
     ]
    }
   ],
   "source": [
    "#zmax=paramin('Asphalt mix layer thickness [cm] = ')\n",
    "#zmax/=100 #zmax == layer thickness in [m]\n",
    "zmax=12.5/100\n",
    "\n",
    "mixprop=str(input('\\nDo you already have VMA, Veff and Bmix? (Y/n)\\n'))\n",
    "default=str(input('Do you want to use default mixture properties? (Y/n)\\n'))\n",
    "\n",
    "if mixprop=='n' or mixture=='N':\n",
    "\n",
    "    if default=='n' or default2=='N':\n",
    "        gsb=paramin('Gsb aggregate bulk specific gravity = ')\n",
    "        gb=paramin('Gb binder specific gravity = ')\n",
    "        gmm=paramin('Gmm asphalt mixture maximum specific gravity =')\n",
    "        av=paramin('Air volume [%] = ')\n",
    "        bc=paramin('Binder content [%] = ')\n",
    "    else:\n",
    "        gsb=2.7\n",
    "        gb=1.03\n",
    "        gmm=2.5\n",
    "        av=7\n",
    "        bc=5\n",
    "    \n",
    "    gmb=(1-av/100)*gmm\n",
    "    vma=round(100-gmb*(100-bc)/gsb,2)\n",
    "    gse=(100-bc)/(100/gmm-bc/gb)\n",
    "    veff=round(gmb*(100-bc)/gse,2)\n",
    "    #veff=round(gmb*(100/gmm-bc/gb),2)\n",
    "    bmix=(vma*lac+veff*lag)/300\n",
    "    \n",
    "    print('VMA intergranular void content in aggregate [%] = '+str(vma))\n",
    "    print('Veff aggregate volume in mix [%] = '+str(veff))\n",
    "    print('Bmix linear coefficient of thermal contraction of asphalt mix [1/C] = '+f'{bmix:.3e}')\n",
    "\n",
    "else:\n",
    "    if default=='n' or default=='N':\n",
    "        vma=paramin('VMA  intergranular void content in aggregate [%] = ')\n",
    "        veff=paramin('Veff aggregate volume in mix [%] = ')\n",
    "        bmix=paramin('Bmix linear coefficient of thermal contraction of asphalt mix [1/C] = ')\n",
    "    else:\n",
    "        vma=18.19\n",
    "        veff=81.71\n",
    "        bmix=2.351e-05\n",
    "        print('VMA intergranular void content in aggregate [%] = '+str(vma))\n",
    "        print('Veff aggregate volume in mix [%] = '+str(veff))\n",
    "        print('Bmix linear coefficient of thermal contraction of asphalt mix [1/C] = '+f'{bmix:.3e}')"
   ]
  },
  {
   "cell_type": "markdown",
   "metadata": {},
   "source": [
    "## Temperature input of our temperature profile model:\n",
    "- Maximum surface temperature $T_{max}$ [ºC] \n",
    "- Maximum surface temperature $T_{min}$ [ºC] \n",
    "- Ambient air temperature $T_{amb}$ [ºC] "
   ]
  },
  {
   "cell_type": "code",
   "execution_count": 6,
   "metadata": {},
   "outputs": [],
   "source": [
    "#tmax=paramin('Max temperature [ºC]= ')\n",
    "#tmin=paramin('Min temperature [ºC]= ')\n",
    "#tamb=paramin('Ambient temperature [ºC]= ')\n",
    "tmax=21\n",
    "tmin=10\n",
    "tamb=16"
   ]
  },
  {
   "cell_type": "markdown",
   "metadata": {},
   "source": [
    "## Temperature profile estimation\n",
    "1. Definition of complex integration constants P and M.\n",
    "2. Definition of calculation time and steps.\n",
    "3. Calculation of the thermal profile at the different depth along time.\n",
    "\n",
    "### Discontinuity at the beginning of the model :\n",
    "**Problematic? Simplifying hypothesis from the mathematical model > already source of errors?**"
   ]
  },
  {
   "cell_type": "code",
   "execution_count": 7,
   "metadata": {
    "scrolled": true
   },
   "outputs": [],
   "source": [
    "p=np.array([12.8377+1.66606j,12.8377-1.66606j,12.2261+5.01272j,12.2261-5.01272j,\n",
    "            10.9343+8.40967j,10.9343-8.40967j,8.77643+11.9219j,8.77643-11.9219j,\n",
    "            5.22545+15.7295j,5.22545-15.7295j])\n",
    "\n",
    "m=np.array([-868.461+15457.4j, -868.461-15457.4j, 1551.63-8439.83j, 1551.63+8439.83j,\n",
    "            -858.652+2322.07j, -858.652-2322.07j, 186.327-253.322j, 186.327+253.322j,\n",
    "            -10.349+4.11094j, -10.349-4.11094j])\n",
    "\n",
    "# We should always compute 2 days and eliminate the first day\n",
    "# so we avoid the discontinuity.\n",
    "tday=1 # number of days to compute\n",
    "tday+=1\n",
    "tstep=2 # time step (in hour)\n",
    "\n",
    "dhours=tday*24\n",
    "tdiscr=int(dhours/tstep+1)\n",
    "time=np.linspace(0,dhours,tdiscr,dtype=float)\n",
    "\n",
    "time[0]=1e-1 # change add by Qingwen because of div/0 at first instant (for each depth)\n",
    "\n",
    "ztemp=zmax*100 # ztemp in [cm]\n",
    "\n",
    "if int(ztemp)==ztemp:\n",
    "    length=ztemp\n",
    "else:\n",
    "    length=int(ztemp)+1\n",
    "\n",
    "zdiscr=2.5 # depth discretization in [cm]\n",
    "    \n",
    "z=np.arange(0,length+1,2.5,dtype=float) # rounded depth steps in [cm]\n",
    "z[-1]=ztemp # real AC thickness value in [cm] at last element\n",
    "zm=z/100 # rounded depth steps in [m]\n",
    "zm[-1]=zmax # real AC thickness value in [m] at last element\n",
    "\n",
    "ftemp=np.zeros((len(time),len(zm)))\n",
    "\n",
    "for i in range(len(time)):\n",
    "    for k in range(len(zm)):\n",
    "        ttemp=0\n",
    "        for j in range(len(p)):\n",
    "            temp0=p[j]/time[i] # here is the 0 div by time[0]\n",
    "            \n",
    "            if mixture=='m' or mixture=='M':\n",
    "                r1=cmath.sqrt(temp0/kacc)\n",
    "                mixprop=aacc*r1\n",
    "            else:\n",
    "                r1=cmath.sqrt(temp0/kac)  # relaciona con cemento asfaltico\n",
    "                r2=cmath.sqrt(temp0/kag)  # relaciona con agregado\n",
    "                mixprop=(aac*r1)/(aag*r2) # relaciona ambos\n",
    "            \n",
    "            ldiv=(1+mixprop.real)/(1-mixprop.real)\n",
    "            \n",
    "            fs=((tmax+tmin)/2)/temp0+(6*math.pi*(tmax-tmin))/(144*temp0**2+math.pi**2)\n",
    "            a=(fs-tamb/temp0)/(1-ldiv*cmath.exp(2*zmax*r1))\n",
    "            b=cmath.exp(zm[k]*r1)-ldiv*cmath.exp((2*zmax-zm[k])*r1)\n",
    "            \n",
    "            U=a*b\n",
    "            FFs=temp0*U\n",
    "            out=m[j]*FFs\n",
    "            \n",
    "            ttemp=ttemp+out.real\n",
    "            \n",
    "        ftemp[i,k]=ttemp+tamb"
   ]
  },
  {
   "cell_type": "markdown",
   "metadata": {},
   "source": [
    "## Plot temperature variation with time at different depth"
   ]
  },
  {
   "cell_type": "code",
   "execution_count": 8,
   "metadata": {},
   "outputs": [
    {
     "data": {
      "image/png": "[encoded data removed]",
      "text/plain": [
       "<Figure size 432x288 with 1 Axes>"
      ]
     },
     "metadata": {
      "needs_background": "light"
     },
     "output_type": "display_data"
    }
   ],
   "source": [
    "exportftemp=pd.DataFrame(ftemp,index=[time],columns=[z])\n",
    "filepath = 'export.xlsx'\n",
    "#exportftemp.to_excel(filepath,index=True,header=True)\n",
    "\n",
    "time2=time[int(24/tstep):]-24 # Recover only second day and correct time stamp\n",
    "ftemp2=ftemp[int(24/tstep):,:] # Avoid discontinuity due to div/0\n",
    "\n",
    "for k in range(len(z)):\n",
    "    plt.plot(time[int(tstep*0):],ftemp[int(tstep*0):,k])\n",
    "    #plt.plot(time2,ftemp2)\n",
    "    \n",
    "plt.title('Temperature variation with time at different depth')\n",
    "plt.show()"
   ]
  },
  {
   "cell_type": "markdown",
   "metadata": {},
   "source": [
    "## Extract temperature profile in function of depth at a given time"
   ]
  },
  {
   "cell_type": "code",
   "execution_count": 9,
   "metadata": {
    "scrolled": true
   },
   "outputs": [
    {
     "data": {
      "image/png": "[encoded data removed]",
      "text/plain": [
       "<Figure size 432x288 with 1 Axes>"
      ]
     },
     "metadata": {
      "needs_background": "light"
     },
     "output_type": "display_data"
    }
   ],
   "source": [
    "ttime=26 # Hour at which you want the thermal profile\n",
    "\n",
    "#plt.plot(z,ftemp[int(ttime/tstep),:]) # Temp vs Depth\n",
    "#plt.plot(ftemp[int(ttime/tstep),:],z) # Depth vs Temp\n",
    "plt.plot(ftemp[int(ttime/tstep),:],z*0.3937008) # Depth_inches vs Temp\n",
    "\n",
    "#plt.plot(z,ftemp2[int(ttime/tstep),:]) # Without 1st day\n",
    "\n",
    "plt.title('Temperature profile at '+str(ttime)+' h')\n",
    "plt.show()"
   ]
  },
  {
   "cell_type": "markdown",
   "metadata": {},
   "source": [
    "## Import of Creep(temperature,time) data using Pandas\n",
    "Direct importation from Excel model"
   ]
  },
  {
   "cell_type": "code",
   "execution_count": 10,
   "metadata": {},
   "outputs": [
    {
     "data": {
      "text/html": [
       "<div>\n",
       "<style scoped>\n",
       "    .dataframe tbody tr th:only-of-type {\n",
       "        vertical-align: middle;\n",
       "    }\n",
       "\n",
       "    .dataframe tbody tr th {\n",
       "        vertical-align: top;\n",
       "    }\n",
       "\n",
       "    .dataframe thead th {\n",
       "        text-align: right;\n",
       "    }\n",
       "</style>\n",
       "<table border=\"1\" class=\"dataframe\">\n",
       "  <thead>\n",
       "    <tr style=\"text-align: right;\">\n",
       "      <th></th>\n",
       "      <th>temp_C</th>\n",
       "      <th>time_s</th>\n",
       "      <th>compliance_gpa</th>\n",
       "    </tr>\n",
       "  </thead>\n",
       "  <tbody>\n",
       "    <tr>\n",
       "      <th>0</th>\n",
       "      <td>-20</td>\n",
       "      <td>1</td>\n",
       "      <td>0.045229</td>\n",
       "    </tr>\n",
       "    <tr>\n",
       "      <th>1</th>\n",
       "      <td>-20</td>\n",
       "      <td>2</td>\n",
       "      <td>0.046810</td>\n",
       "    </tr>\n",
       "    <tr>\n",
       "      <th>2</th>\n",
       "      <td>-20</td>\n",
       "      <td>5</td>\n",
       "      <td>0.049365</td>\n",
       "    </tr>\n",
       "    <tr>\n",
       "      <th>3</th>\n",
       "      <td>-20</td>\n",
       "      <td>10</td>\n",
       "      <td>0.051892</td>\n",
       "    </tr>\n",
       "    <tr>\n",
       "      <th>4</th>\n",
       "      <td>-20</td>\n",
       "      <td>20</td>\n",
       "      <td>0.055146</td>\n",
       "    </tr>\n",
       "    <tr>\n",
       "      <th>5</th>\n",
       "      <td>-20</td>\n",
       "      <td>50</td>\n",
       "      <td>0.059798</td>\n",
       "    </tr>\n",
       "    <tr>\n",
       "      <th>6</th>\n",
       "      <td>-20</td>\n",
       "      <td>100</td>\n",
       "      <td>0.064649</td>\n",
       "    </tr>\n",
       "    <tr>\n",
       "      <th>7</th>\n",
       "      <td>-20</td>\n",
       "      <td>200</td>\n",
       "      <td>0.070221</td>\n",
       "    </tr>\n",
       "    <tr>\n",
       "      <th>8</th>\n",
       "      <td>-20</td>\n",
       "      <td>500</td>\n",
       "      <td>0.079147</td>\n",
       "    </tr>\n",
       "    <tr>\n",
       "      <th>9</th>\n",
       "      <td>-20</td>\n",
       "      <td>1000</td>\n",
       "      <td>0.086293</td>\n",
       "    </tr>\n",
       "    <tr>\n",
       "      <th>10</th>\n",
       "      <td>-10</td>\n",
       "      <td>1</td>\n",
       "      <td>0.057676</td>\n",
       "    </tr>\n",
       "    <tr>\n",
       "      <th>11</th>\n",
       "      <td>-10</td>\n",
       "      <td>2</td>\n",
       "      <td>0.060700</td>\n",
       "    </tr>\n",
       "    <tr>\n",
       "      <th>12</th>\n",
       "      <td>-10</td>\n",
       "      <td>5</td>\n",
       "      <td>0.065677</td>\n",
       "    </tr>\n",
       "    <tr>\n",
       "      <th>13</th>\n",
       "      <td>-10</td>\n",
       "      <td>10</td>\n",
       "      <td>0.070468</td>\n",
       "    </tr>\n",
       "    <tr>\n",
       "      <th>14</th>\n",
       "      <td>-10</td>\n",
       "      <td>20</td>\n",
       "      <td>0.076423</td>\n",
       "    </tr>\n",
       "    <tr>\n",
       "      <th>15</th>\n",
       "      <td>-10</td>\n",
       "      <td>50</td>\n",
       "      <td>0.086705</td>\n",
       "    </tr>\n",
       "    <tr>\n",
       "      <th>16</th>\n",
       "      <td>-10</td>\n",
       "      <td>100</td>\n",
       "      <td>0.095916</td>\n",
       "    </tr>\n",
       "    <tr>\n",
       "      <th>17</th>\n",
       "      <td>-10</td>\n",
       "      <td>200</td>\n",
       "      <td>0.109966</td>\n",
       "    </tr>\n",
       "    <tr>\n",
       "      <th>18</th>\n",
       "      <td>-10</td>\n",
       "      <td>500</td>\n",
       "      <td>0.133182</td>\n",
       "    </tr>\n",
       "    <tr>\n",
       "      <th>19</th>\n",
       "      <td>-10</td>\n",
       "      <td>1000</td>\n",
       "      <td>0.159377</td>\n",
       "    </tr>\n",
       "    <tr>\n",
       "      <th>20</th>\n",
       "      <td>0</td>\n",
       "      <td>1</td>\n",
       "      <td>0.099654</td>\n",
       "    </tr>\n",
       "    <tr>\n",
       "      <th>21</th>\n",
       "      <td>0</td>\n",
       "      <td>2</td>\n",
       "      <td>0.107731</td>\n",
       "    </tr>\n",
       "    <tr>\n",
       "      <th>22</th>\n",
       "      <td>0</td>\n",
       "      <td>5</td>\n",
       "      <td>0.121974</td>\n",
       "    </tr>\n",
       "    <tr>\n",
       "      <th>23</th>\n",
       "      <td>0</td>\n",
       "      <td>10</td>\n",
       "      <td>0.137219</td>\n",
       "    </tr>\n",
       "    <tr>\n",
       "      <th>24</th>\n",
       "      <td>0</td>\n",
       "      <td>20</td>\n",
       "      <td>0.156358</td>\n",
       "    </tr>\n",
       "    <tr>\n",
       "      <th>25</th>\n",
       "      <td>0</td>\n",
       "      <td>50</td>\n",
       "      <td>0.191109</td>\n",
       "    </tr>\n",
       "    <tr>\n",
       "      <th>26</th>\n",
       "      <td>0</td>\n",
       "      <td>100</td>\n",
       "      <td>0.224928</td>\n",
       "    </tr>\n",
       "    <tr>\n",
       "      <th>27</th>\n",
       "      <td>0</td>\n",
       "      <td>200</td>\n",
       "      <td>0.270531</td>\n",
       "    </tr>\n",
       "    <tr>\n",
       "      <th>28</th>\n",
       "      <td>0</td>\n",
       "      <td>500</td>\n",
       "      <td>0.351902</td>\n",
       "    </tr>\n",
       "    <tr>\n",
       "      <th>29</th>\n",
       "      <td>0</td>\n",
       "      <td>1000</td>\n",
       "      <td>0.443153</td>\n",
       "    </tr>\n",
       "  </tbody>\n",
       "</table>\n",
       "</div>"
      ],
      "text/plain": [
       "    temp_C  time_s  compliance_gpa\n",
       "0      -20       1        0.045229\n",
       "1      -20       2        0.046810\n",
       "2      -20       5        0.049365\n",
       "3      -20      10        0.051892\n",
       "4      -20      20        0.055146\n",
       "5      -20      50        0.059798\n",
       "6      -20     100        0.064649\n",
       "7      -20     200        0.070221\n",
       "8      -20     500        0.079147\n",
       "9      -20    1000        0.086293\n",
       "10     -10       1        0.057676\n",
       "11     -10       2        0.060700\n",
       "12     -10       5        0.065677\n",
       "13     -10      10        0.070468\n",
       "14     -10      20        0.076423\n",
       "15     -10      50        0.086705\n",
       "16     -10     100        0.095916\n",
       "17     -10     200        0.109966\n",
       "18     -10     500        0.133182\n",
       "19     -10    1000        0.159377\n",
       "20       0       1        0.099654\n",
       "21       0       2        0.107731\n",
       "22       0       5        0.121974\n",
       "23       0      10        0.137219\n",
       "24       0      20        0.156358\n",
       "25       0      50        0.191109\n",
       "26       0     100        0.224928\n",
       "27       0     200        0.270531\n",
       "28       0     500        0.351902\n",
       "29       0    1000        0.443153"
      ]
     },
     "execution_count": 10,
     "metadata": {},
     "output_type": "execute_result"
    }
   ],
   "source": [
    "icreep=['temp_C','time_s','compliance_gpa']\n",
    "\n",
    "excelin=pd.read_excel (r'creep_compliance.xlsx')\n",
    "excelin.columns=[icreep[0],icreep[1],icreep[2]]\n",
    "\n",
    "excelin"
   ]
  },
  {
   "cell_type": "markdown",
   "metadata": {},
   "source": [
    "## Import of Creep(temperaure,time) data using Pandas\n",
    "Importation from clipboard and redefinition of columns distribution"
   ]
  },
  {
   "cell_type": "raw",
   "metadata": {},
   "source": [
    "'''\n",
    "while True:\n",
    "    cask=input('Please copy all creep compliance data {Temperature - Time - Compliance} from your Excel file!\\nONCE your data is in the clipboard, press any key\\n')\n",
    "    copyin=pd.read_clipboard(header=None)\n",
    "    #copyin=pd.read_clipboard()\n",
    "    if isinstance(copyin.iloc[0,0], str):\n",
    "        copyin=copyin.drop(copyin.index[0])\n",
    "        copyin=copyin.reset_index(drop=True)\n",
    "    \n",
    "    ctemp=indexin('The first column correspond to (give the number):\\n 1 - Temperature (C)\\n 2 - Time (sec)\\n 3 - Compliance (1/GPa)\\n')\n",
    "    ctime=indexin('The second column correspond to (give the number):\\n 1 - Temperature (C)\\n 2 - Time (sec)\\n 3 - Compliance (1/GPa)\\n')\n",
    "    ccreep=indexin('The third column correspond to (give the number):\\n 1 - Temperature (C)\\n 2 - Time (sec)\\n 3 - Compliance (1/GPa)\\n')\n",
    "    \n",
    "    copyin.columns=[icreep[ctemp-1],icreep[ctime-1],icreep[ccreep-1]]\n",
    "    \n",
    "    print('Please verify your data below.')\n",
    "    print(copyin)\n",
    "    cask=input('Is is correct? (y/N)\\n')\n",
    "    if cask=='y' or cask=='Y': break\n",
    "'''\n",
    "\n",
    "#copyin"
   ]
  },
  {
   "cell_type": "markdown",
   "metadata": {},
   "source": [
    "Different plots from creep data:\n",
    "1. creep vs time\n",
    "2. log10(creep) vs log10(time)"
   ]
  },
  {
   "cell_type": "code",
   "execution_count": 11,
   "metadata": {},
   "outputs": [
    {
     "data": {
      "image/png": "[encoded data removed]",
      "text/plain": [
       "<Figure size 432x288 with 1 Axes>"
      ]
     },
     "metadata": {
      "needs_background": "light"
     },
     "output_type": "display_data"
    }
   ],
   "source": [
    "temparray=excelin.iloc[:,0].unique()\n",
    "\n",
    "for k in temparray:\n",
    "    tempselection=excelin[excelin.iloc[:,0]==k]\n",
    "    plt.plot(tempselection.iloc[:,1],tempselection.iloc[:,2])\n",
    "    \n",
    "plt.show()"
   ]
  },
  {
   "cell_type": "markdown",
   "metadata": {},
   "source": [
    "Optimization of 2nd order polynomial function onto log-log creep(time) data"
   ]
  },
  {
   "cell_type": "code",
   "execution_count": 12,
   "metadata": {},
   "outputs": [
    {
     "name": "stdout",
     "output_type": "stream",
     "text": [
      "polyfit parameters = [ 0.01676201  0.04407328 -1.34491681]\n",
      "R² = 0.9998060648489542\n",
      "polyfit parameters = [ 0.03243473  0.04650782 -1.23461393]\n",
      "R² = 0.9992986054868952\n",
      "polyfit parameters = [ 0.03841515  0.10020483 -1.00151198]\n",
      "R² = 0.9999708182973699\n"
     ]
    },
    {
     "data": {
      "image/png": "[encoded data removed]",
      "text/plain": [
       "<Figure size 432x288 with 1 Axes>"
      ]
     },
     "metadata": {
      "needs_background": "light"
     },
     "output_type": "display_data"
    }
   ],
   "source": [
    "i=0\n",
    "polyA=np.zeros((len(temparray),3))\n",
    "\n",
    "def polylogJ(x,u,v,w):\n",
    "    # define the function to optimize on log(J)-log(t) data\n",
    "    return u*x**2+v*x+w\n",
    "\n",
    "for k in temparray:\n",
    "    tempselection=excelin[excelin.iloc[:,0]==k]\n",
    "    t=np.log10(tempselection.iloc[:,1])\n",
    "    CC=np.log10(tempselection.iloc[:,2])\n",
    "        \n",
    "    ppolyCC,pcov=curve_fit(polylogJ,t,CC)\n",
    "    polyA[i,:]=ppolyCC\n",
    "    CCcalc=polylogJ(t,*ppolyCC)\n",
    "    print('polyfit parameters = '+str(ppolyCC))\n",
    "    \n",
    "    residuals=CC-CCcalc\n",
    "    ss_res=np.sum(residuals**2)\n",
    "    ss_tot=np.sum((CC-np.mean(CC))**2)\n",
    "    r_squared=1-(ss_res/ss_tot)\n",
    "    print('R² = '+str(r_squared))\n",
    "    #standard deviation errors on the parameters use perr = np.sqrt(np.diag(pcov))\n",
    "    #print('a =', popt[0], '+/-', pcov[0,0]**0.5)\n",
    "    #print('b =', popt[1], '+/-', pcov[1,1]**0.5)\n",
    "    \n",
    "    plt.plot(t,CC,'bs')\n",
    "    plt.plot(t,CCcalc)\n",
    "    i+=1\n",
    "    \n",
    "plt.show()"
   ]
  },
  {
   "cell_type": "markdown",
   "metadata": {},
   "source": [
    "## Tref & shift\n",
    "1. Chose the reference temperature\n",
    "2. Calculation of mean shift to apply on other temperature data"
   ]
  },
  {
   "cell_type": "code",
   "execution_count": 13,
   "metadata": {},
   "outputs": [
    {
     "name": "stdout",
     "output_type": "stream",
     "text": [
      "Chose between one the following temperature as reference temperature Tref [-20 -10   0]\n",
      "-20\n",
      "[-1.38979493 -3.30530378]\n"
     ]
    }
   ],
   "source": [
    "tref=int(input('Chose between one the following temperature as reference temperature Tref '+str(temparray)+'\\n'))\n",
    "trefInd=np.where(temparray==tref)\n",
    "trefInd=int(trefInd[0])\n",
    "temparray2=np.delete(temparray,trefInd)\n",
    "\n",
    "i=0\n",
    "xmean=np.zeros(len(temparray2))\n",
    "\n",
    "for k in temparray2:\n",
    "    tempselection=excelin[excelin.iloc[:,0]==k]\n",
    "    t=np.log10(tempselection.iloc[:,1])\n",
    "    CC=np.log10(tempselection.iloc[:,2])\n",
    "    \n",
    "    shift=(-polyA[trefInd,1]+np.sqrt(polyA[trefInd,1]**2-4*polyA[trefInd,0]*(polyA[trefInd,2]-CC)))/(2*polyA[trefInd,0])\n",
    "    xshift=t-shift\n",
    "    \n",
    "    xmean[i]=np.mean(xshift)\n",
    "    i+=1\n",
    "    \n",
    "print(xmean)"
   ]
  },
  {
   "cell_type": "markdown",
   "metadata": {},
   "source": [
    "3. Shift realized using the \"Equivalent Slope Method\" from [Saboo]\n",
    "4. Plot the Creep Compliance Master Curve (CCMC) using this shifting method"
   ]
  },
  {
   "cell_type": "code",
   "execution_count": 14,
   "metadata": {},
   "outputs": [
    {
     "data": {
      "image/png": "[encoded data removed]",
      "text/plain": [
       "<Figure size 432x288 with 1 Axes>"
      ]
     },
     "metadata": {
      "needs_background": "light"
     },
     "output_type": "display_data"
    }
   ],
   "source": [
    "logtr=np.zeros(len(excelin.iloc[:,0]))\n",
    "tr=np.zeros(len(excelin.iloc[:,0]))\n",
    "\n",
    "for k in range(len(tr)):\n",
    "    if excelin.iloc[k,0]==tref:\n",
    "        logtr[k]=np.log10(excelin.iloc[k,1])\n",
    "    for tt in range(len(temparray2)):\n",
    "        if excelin.iloc[k,0]==temparray2[tt]:\n",
    "            logtr[k]=np.log10(excelin.iloc[k,1])-xmean[tt]\n",
    "\n",
    "tr=10**(logtr)\n",
    "J=excelin.iloc[:,2]\n",
    "logJ=np.log10(J)\n",
    "\n",
    "plt.plot(tr,J,'bo')\n",
    "plt.yscale('log')\n",
    "plt.xscale('log')\n",
    "plt.show()"
   ]
  },
  {
   "cell_type": "markdown",
   "metadata": {},
   "source": [
    "## Optimize log(aT) - WLF model - function\n",
    "> Recover parameters plogat[0] and plogat[1]"
   ]
  },
  {
   "cell_type": "code",
   "execution_count": 15,
   "metadata": {},
   "outputs": [
    {
     "name": "stdout",
     "output_type": "stream",
     "text": [
      "log(at) parameters = [ 7322.52089992 45745.88541045]\n",
      "R² = -1.7372495943890773\n"
     ]
    },
    {
     "data": {
      "image/png": "[encoded data removed]",
      "text/plain": [
       "<Figure size 432x288 with 1 Axes>"
      ]
     },
     "metadata": {
      "needs_background": "light"
     },
     "output_type": "display_data"
    }
   ],
   "source": [
    "ylogat=np.append(xmean,0)\n",
    "temparray3=np.append(temparray2,tref)\n",
    "\n",
    "def logat(x,u,v):\n",
    "    # log(at) function\n",
    "    return -u*(x-tref)/(v+x-tref)\n",
    "\n",
    "plogat,pcov=curve_fit(logat,temparray3,ylogat,bounds=(0,np.inf),method='trf')\n",
    "print('log(at) parameters = '+str(plogat))\n",
    "\n",
    "logatcalc=logat(temparray,*plogat)\n",
    "\n",
    "residuals = ylogat- logatcalc\n",
    "ss_res = np.sum(residuals**2)\n",
    "ss_tot = np.sum((ylogat-np.mean(ylogat))**2)\n",
    "r_squared = 1 - (ss_res / ss_tot)\n",
    "print('R² = '+str(r_squared))\n",
    "\n",
    "plt.plot(temparray3,ylogat,'bs')\n",
    "plt.plot(temparray,logatcalc,'g-')\n",
    "plt.show()"
   ]
  },
  {
   "cell_type": "markdown",
   "metadata": {},
   "source": [
    "## Optimize Prony Serie onto CCMC\n",
    "> parameters paramJ[0]=J0 ; paramJ[1:2]={J1;tau1} ... ; paramJ[-1]=$\\frac{1}{\\eta_f}$"
   ]
  },
  {
   "cell_type": "code",
   "execution_count": 16,
   "metadata": {},
   "outputs": [
    {
     "name": "stdout",
     "output_type": "stream",
     "text": [
      "How many terms of the Prony serie do you want to use to model the CCMC?\n",
      " n = 6\n",
      "Prony J serie parameters = [4.44601436e-02 7.91789134e-02 5.23260125e+00 1.00969002e-02\n",
      " 1.01046513e+00 5.14747738e-02 4.01676858e+00 2.28759235e-02\n",
      " 2.92555063e+00 1.01471935e-02 1.95323229e+00 4.18609820e-01\n",
      " 6.41842057e+00 7.86331314e-15]\n",
      "R² = 0.9990779885690916\n"
     ]
    },
    {
     "data": {
      "image/png": "[encoded data removed]",
      "text/plain": [
       "<Figure size 432x288 with 1 Axes>"
      ]
     },
     "metadata": {
      "needs_background": "light"
     },
     "output_type": "display_data"
    }
   ],
   "source": [
    "CC={'tr':tr,'J':J}\n",
    "CCMC=pd.DataFrame(data=CC)\n",
    "CCMC.sort_values(by=['tr'], inplace=True)\n",
    "ttr=np.array(CCMC.iloc[:,0])\n",
    "JJ=np.array(CCMC.iloc[:,1])\n",
    "\n",
    "def make_pronyJ(nn):\n",
    "    def pronyJ(x,*p):\n",
    "        prony=p[0]\n",
    "        for i in range(1,2*nn,2):\n",
    "            prony+=p[i]*(1-np.exp(-x/10**p[i+1]))\n",
    "        prony+=x*p[2*nn+1]\n",
    "        return prony\n",
    "    return pronyJ\n",
    "\n",
    "nn=int(input('How many terms of the Prony serie do you want to use to model the CCMC?\\n n = '))\n",
    "fit_pronyJ=make_pronyJ(nn)\n",
    "\n",
    "paramJ,pcov=curve_fit(fit_pronyJ,ttr,JJ,p0=[0.0]*(2*nn+2),bounds=(0,np.inf),method='trf')\n",
    "print('Prony J serie parameters = '+str(paramJ))\n",
    "\n",
    "Jcalc=fit_pronyJ(ttr,*paramJ)\n",
    "\n",
    "residuals = JJ-Jcalc\n",
    "ss_res = np.sum(residuals**2)\n",
    "ss_tot = np.sum((JJ-np.mean(JJ))**2)\n",
    "r_squared = 1 - (ss_res / ss_tot)\n",
    "print('R² = '+str(r_squared))\n",
    "\n",
    "tsim=np.logspace(0.1,7,50)\n",
    "Jsim=fit_pronyJ(tsim,*paramJ)\n",
    "\n",
    "plt.plot(ttr,JJ,'bs')\n",
    "plt.plot(ttr,Jcalc,'ro')\n",
    "plt.plot(tsim,Jsim)\n",
    "plt.yscale('log')\n",
    "plt.xscale('log')\n",
    "plt.show()"
   ]
  },
  {
   "cell_type": "markdown",
   "metadata": {},
   "source": [
    "## Interconvertion CCMC > E* Master Curve (EMC) [Park1999]\n",
    "## Optimization of Prony Series onto EMC\n",
    "> parameters paramE[0]=Gg ; paramE[1:2]={G1;tauG1} ..."
   ]
  },
  {
   "cell_type": "code",
   "execution_count": 17,
   "metadata": {},
   "outputs": [
    {
     "name": "stdout",
     "output_type": "stream",
     "text": [
      "How many terms of the Prony serie do you want to use to model the Dynamic Modulus E*?\n",
      " n = 10\n",
      "Prony E serie parameters = [22.46539037  2.51832121  6.00245773  2.35837665  5.09501295  0.73687042\n",
      "  4.40107779  0.84539055  2.36026895  0.83962485  0.65882028  3.29800066\n",
      "  2.84842734  3.12004009  3.89257545  0.88057089  3.41339964  3.39152142\n",
      "  1.00611185  2.55810632  1.86036442]\n",
      "R² = 0.9999999977158099\n"
     ]
    },
    {
     "data": {
      "image/png": "[encoded data removed]",
      "text/plain": [
       "<Figure size 432x288 with 1 Axes>"
      ]
     },
     "metadata": {
      "needs_background": "light"
     },
     "output_type": "display_data"
    }
   ],
   "source": [
    "def make_dpronyJ(nn):\n",
    "    def dpronyJ(x,*p):\n",
    "        dprony=0\n",
    "        for i in range(1,2*nn+1,2):\n",
    "            dprony+=(p[i]/10**p[i+1])*np.exp(-x/10**p[i+1])\n",
    "        dprony+=p[2*nn+1]\n",
    "        return dprony\n",
    "    return dpronyJ\n",
    "\n",
    "dpronyJ1=make_dpronyJ(nn)\n",
    "dpronyJ=dpronyJ1(ttr,*paramJ)\n",
    "\n",
    "n=dpronyJ/(ttr*Jcalc)\n",
    "alpha=(np.sin(n*np.pi)/(n*np.pi))**(1/n)\n",
    "Dtalpha=fit_pronyJ(ttr/alpha,*paramJ)\n",
    "E=1/Dtalpha\n",
    "\n",
    "def make_pronyE(nn):\n",
    "    def pronyE(x,*p):\n",
    "        prony=p[0]\n",
    "        for i in range(1,2*nn,2):\n",
    "            prony+=p[i]*(np.exp(-x/10**p[i+1])-1)\n",
    "        return prony\n",
    "    return pronyE\n",
    "\n",
    "nn2=int(input('How many terms of the Prony serie do you want to use to model the Dynamic Modulus E*?\\n n = '))\n",
    "fit_pronyE=make_pronyE(nn2)\n",
    "\n",
    "paramE,pcov=curve_fit(fit_pronyE,ttr,E,p0=[0.0]*(2*nn2+1),bounds=(0,np.inf),method='trf')\n",
    "print('Prony E serie parameters = '+str(paramE))\n",
    "\n",
    "Ecalc=fit_pronyE(ttr,*paramE)\n",
    "\n",
    "residuals = E-Ecalc\n",
    "ss_res = np.sum(residuals**2)\n",
    "ss_tot = np.sum((E-np.mean(E))**2)\n",
    "r_squared = 1 - (ss_res / ss_tot)\n",
    "print('R² = '+str(r_squared))\n",
    "\n",
    "Esim=fit_pronyE(tsim,*paramE)\n",
    "\n",
    "plt.plot(ttr,E,'bs')\n",
    "plt.plot(ttr,Ecalc,'ro')\n",
    "plt.plot(tsim,Esim,'g')\n",
    "plt.yscale('log')\n",
    "plt.xscale('log')\n",
    "plt.show()"
   ]
  },
  {
   "cell_type": "markdown",
   "metadata": {},
   "source": [
    "## Import of E*(frequency,temp) data using Pandas\n",
    "Direct importation from Excel model"
   ]
  },
  {
   "cell_type": "raw",
   "metadata": {},
   "source": [
    "imodulus=['temp_C','freq_hz','Edyn_gpa']\n",
    "\n",
    "excelinE=pd.read_excel (r'dynamic_modulus.xlsx')\n",
    "excelinE.columns=[imodulus[0],imodulus[1],imodulus[2]]\n",
    "\n",
    "#test=pd.DataFrame(excelin, columns=['temp_C'])\n",
    "\n",
    "excelinE"
   ]
  },
  {
   "cell_type": "markdown",
   "metadata": {},
   "source": [
    "## Different plots from Edyn data:\n",
    "1. Edyn vs frequency\n",
    "2. Edyn vs time\n",
    "3. log10(Edyn) vs log10(time)"
   ]
  },
  {
   "cell_type": "raw",
   "metadata": {},
   "source": [
    "temparray=excelinE.iloc[:,0].unique()\n",
    "\n",
    "for k in temparray:\n",
    "    tempselection=excelinE[excelinE.iloc[:,0]==k]\n",
    "    plt.plot(tempselection.iloc[:,1],tempselection.iloc[:,2])\n",
    "    \n",
    "plt.show()"
   ]
  },
  {
   "cell_type": "raw",
   "metadata": {},
   "source": [
    "for k in temparray:\n",
    "    tempselection=excelinE[excelinE.iloc[:,0]==k]\n",
    "    plt.plot(1/tempselection.iloc[:,1],tempselection.iloc[:,2])\n",
    "    \n",
    "plt.show()"
   ]
  },
  {
   "cell_type": "raw",
   "metadata": {},
   "source": [
    "for k in temparray:\n",
    "    tempselection=excelinE[excelinE.iloc[:,0]==k]\n",
    "    plt.plot(np.log10(1/tempselection.iloc[:,1]),np.log10(tempselection.iloc[:,2]))\n",
    "    \n",
    "plt.show()"
   ]
  },
  {
   "cell_type": "markdown",
   "metadata": {},
   "source": [
    "## Optimization of 1st order polynomial function (linear) onto log-log E*(time) data"
   ]
  },
  {
   "cell_type": "raw",
   "metadata": {},
   "source": [
    "i=0\n",
    "linA=np.zeros((len(temparray),2))\n",
    "\n",
    "def linlogE(x,u,v):\n",
    "    # define the function to optimize on log(J)-log(t) data\n",
    "    return u*x+v\n",
    "\n",
    "for k in temparray:\n",
    "    tempselection=excelinE[excelinE.iloc[:,0]==k]\n",
    "    t=np.log10(1/tempselection.iloc[:,1])\n",
    "    Edyn=np.log10(tempselection.iloc[:,2])\n",
    "        \n",
    "    linEdyn,pcov=curve_fit(linlogE,t,Edyn)\n",
    "    linA[i,:]=linEdyn\n",
    "    Edyncalc=linlogE(t,*linEdyn)\n",
    "    print('linfit parameters = '+str(linEdyn))\n",
    "    \n",
    "    residuals=Edyn-Edyncalc\n",
    "    ss_res=np.sum(residuals**2)\n",
    "    ss_tot=np.sum((Edyn-np.mean(Edyn))**2)\n",
    "    r_squared=1-(ss_res/ss_tot)\n",
    "    print('R² = '+str(r_squared))\n",
    "    \n",
    "    plt.plot(t,Edyn,'bs')\n",
    "    plt.plot(t,Edyncalc)\n",
    "    i+=1\n",
    "    \n",
    "plt.show()"
   ]
  },
  {
   "cell_type": "markdown",
   "metadata": {},
   "source": [
    "## Tref & shift\n",
    "1. Chose the reference temperature\n",
    "2. Calculation of mean shift to apply on other temperature data"
   ]
  },
  {
   "cell_type": "raw",
   "metadata": {},
   "source": [
    "tref=int(input('Chose between one the following temperature as reference temperature Tref '+str(temparray)+'\\n'))\n",
    "trefInd=np.where(temparray==tref)\n",
    "trefInd=int(trefInd[0])\n",
    "temparray2=np.delete(temparray,trefInd)\n",
    "\n",
    "i=0\n",
    "xmean=np.zeros(len(temparray2))\n",
    "\n",
    "for k in temparray2:\n",
    "    tempselection=excelinE[excelinE.iloc[:,0]==k]\n",
    "    t=np.log10(1/tempselection.iloc[:,1])\n",
    "    Edyn=np.log10(tempselection.iloc[:,2])\n",
    "    \n",
    "    shift=(Edyn-linA[trefInd,1])/linA[trefInd,0]\n",
    "    xshift=t-shift\n",
    "    \n",
    "    xmean[i]=np.mean(xshift)\n",
    "    i+=1\n",
    "    \n",
    "print(xmean)"
   ]
  },
  {
   "cell_type": "markdown",
   "metadata": {},
   "source": [
    "3. Shift realized using the \"Equivalent Slope Method\" from [Saboo]\n",
    "4. Plot the Dynamic Modulus Master Curve (DMMC/EMC) using this shifting method"
   ]
  },
  {
   "cell_type": "raw",
   "metadata": {},
   "source": [
    "logtr=np.zeros(len(excelinE.iloc[:,0]))\n",
    "tr=np.zeros(len(excelinE.iloc[:,0]))\n",
    "\n",
    "for k in range(len(tr)):\n",
    "    if excelinE.iloc[k,0]==tref:\n",
    "        logtr[k]=np.log10(1/excelinE.iloc[k,1])\n",
    "    for tt in range(len(temparray2)):\n",
    "        if excelinE.iloc[k,0]==temparray2[tt]:\n",
    "            logtr[k]=np.log10(1/excelinE.iloc[k,1])-xmean[tt]\n",
    "\n",
    "tr=10**(logtr)\n",
    "E=excelinE.iloc[:,2]\n",
    "logE=np.log10(E)\n",
    "\n",
    "plt.plot(tr,E,'bo')\n",
    "plt.xscale('log')\n",
    "plt.yscale('log')\n",
    "plt.show()"
   ]
  },
  {
   "cell_type": "markdown",
   "metadata": {},
   "source": [
    "## Optimization of Prony Series onto EMC\n",
    "> parameters paramEdyn[0]=Gg ; paramEdyn[1:2]={G1;tauG1} ..."
   ]
  },
  {
   "cell_type": "raw",
   "metadata": {},
   "source": [
    "EdIn={'tr':tr,'E*':E}\n",
    "EdMC=pd.DataFrame(data=EdIn)\n",
    "EdMC.sort_values(by=['tr'], inplace=True)\n",
    "ttr=np.array(EdMC.iloc[:,0])\n",
    "Edin=np.array(EdMC.iloc[:,1])\n",
    "\n",
    "nn3=int(input('How many terms of the Prony serie do you want to use to model the Dynamic Modulus E*?\\n n = '))\n",
    "fit_pronyEdyn=make_pronyE(nn3)\n",
    "\n",
    "#paramEdyn,pcov=curve_fit(fit_pronyEdyn,ttr,Edin,p0=[0.0]*(2*nn3+1),bounds=(0,np.inf),method='trf')\n",
    "paramEdyn,pcov=curve_fit(fit_pronyEdyn,ttr,Edin,p0=[0.0]*(2*nn3+1),method='trf')\n",
    "print('Prony E serie parameters = '+str(paramEdyn))\n",
    "\n",
    "EcalcIn=fit_pronyEdyn(ttr,*paramEdyn)\n",
    "\n",
    "residuals = Edin-EcalcIn\n",
    "ss_res = np.sum(residuals**2)\n",
    "ss_tot = np.sum((Edin-np.mean(Edin))**2)\n",
    "r_squared = 1 - (ss_res / ss_tot)\n",
    "print('R² = '+str(r_squared))\n",
    "\n",
    "tsim2=np.logspace(-4,5,50)\n",
    "Esim2=fit_pronyEdyn(tsim2,*paramEdyn)\n",
    "\n",
    "plt.plot(ttr,Edin,'bs')\n",
    "plt.plot(ttr,EcalcIn,'ro')\n",
    "plt.plot(tsim2,Esim2,'g')\n",
    "plt.xscale('log')\n",
    "plt.yscale('log')\n",
    "plt.show()"
   ]
  },
  {
   "cell_type": "raw",
   "metadata": {},
   "source": [
    "print(pcov)"
   ]
  },
  {
   "cell_type": "markdown",
   "metadata": {},
   "source": [
    "## Linear interpolation and small discretization of time-temperature evolution"
   ]
  },
  {
   "cell_type": "code",
   "execution_count": 18,
   "metadata": {},
   "outputs": [
    {
     "data": {
      "image/png": "[encoded data removed]",
      "text/plain": [
       "<Figure size 432x288 with 1 Axes>"
      ]
     },
     "metadata": {
      "needs_background": "light"
     },
     "output_type": "display_data"
    }
   ],
   "source": [
    "tinterp=np.linspace(0,time[-1],(len(time)-1)*10+1)\n",
    "#tinterp[0]=time[0]\n",
    "tinterp[0]=1e-4\n",
    "\n",
    "Tinterp=np.zeros((len(tinterp),len(z)))\n",
    "\n",
    "time0=time\n",
    "time0[0]=0\n",
    "\n",
    "for k in range(len(z)): Tinterp[:,k]=np.interp(tinterp,time0,ftemp[:,k])\n",
    "\n",
    "plt.plot(time[0:4],ftemp[0:4,0],'o')\n",
    "plt.plot(tinterp[0:31],Tinterp[0:31,0],'-x')\n",
    "plt.show()"
   ]
  },
  {
   "cell_type": "code",
   "execution_count": 19,
   "metadata": {},
   "outputs": [
    {
     "name": "stdout",
     "output_type": "stream",
     "text": [
      "Time you want to plot [h]?\n",
      " tstress =2\n",
      "\n",
      "Thermal stress values at different depth [psi]:\n",
      "[5.20934149e-14 6.78343810e-14 7.62377789e-14 7.59574600e-14\n",
      " 6.93898651e-14 6.03055565e-14]\n",
      "\n",
      "Steps to compute for 2h stress calculation:\n",
      "[3.98486000e+07 4.78599680e+07 5.70550420e+07 6.76125410e+07\n",
      " 7.97131840e+07 9.35602270e+07 1.09382161e+08 1.27435735e+08\n",
      " 1.48009317e+08 1.71426659e+08 1.73447670e+08]\n"
     ]
    }
   ],
   "source": [
    "\n",
    "# WRONG > QINGWEN CHANGED IT\n",
    "def ilogat(x,u,v):\n",
    "    # -1/logat function! And confusion in C1/C2 param position\n",
    "    return (u+x-tref)/(v*(x-tref))\n",
    "    #return (v+x-tref)/(u*(x-tref)) # correction of the switch between C1 & C2 param\n",
    "\n",
    "\n",
    "lat=logat(Tinterp,*plogat)\n",
    "tsec=tinterp*3600\n",
    "\n",
    "Xi=np.zeros((len(tinterp),len(z)))\n",
    "Xdelta=np.zeros((len(tinterp)-1,len(z)))\n",
    "Tdexi=np.zeros((len(tinterp)-1,len(z)))\n",
    "Xstep=np.zeros((len(tinterp)-1,len(z)))\n",
    "\n",
    "for k in range(len(z)):\n",
    "     \n",
    "    # WRONG > QINGWEN CHANGED IT\n",
    "    # > log(tsec)-log(10)=log(tsec/10)!=log10(tsec)\n",
    "    #Xi[:,k]=10**(np.log(tsec)-np.log(10)-lat[:,k])\n",
    "    # > log10(tsec)=log(tsec)/log(10)\n",
    "    #Xi[:,k]=10**(np.log(tsec/10)-lat[:,k])\n",
    "    \n",
    "    \n",
    "    Xi[:,k]=10**(np.log10(tsec)-lat[:,k]) \n",
    "    \n",
    "    Xdelta[:,k]=np.diff(Xi[:,k])\n",
    "    Tdexi[:,k]=np.diff(Tinterp[:,k])/Xdelta[:,k]\n",
    "    Xstep[:,k]=np.int_(Xdelta[:,k]/10)\n",
    "\n",
    "tstress=int(input('Time you want to plot [h]?\\n tstress ='))\n",
    "\n",
    "stress=np.zeros((len(z)))\n",
    "\n",
    "'''\n",
    "for tt in range(len(tinterp)):\n",
    "    if tstress>=tinterp[tt]:\n",
    "        for zz in range(len(z)):\n",
    "            #for k in range(int(Xstep[tt,zz])):\n",
    "            for k in range(1):\n",
    "                if Xdelta[tt,zz] > 0:\n",
    "                    stress[zz]=+fit_pronyE((Xi[tt+1,zz]-k*10),*paramE)*Tdexi[tt,zz]*10*bmix\n",
    "                else:\n",
    "                    stress[zz]=+fit_pronyE((Xi[tt+1,zz]+k*10),*paramE)*Tdexi[tt,zz]*10*bmix\n",
    "    else: break\n",
    "'''\n",
    "\n",
    "#Faster integration test > avoid looping on condition\n",
    "        \n",
    "for tt in range(len(tinterp)):\n",
    "    if tstress>=tinterp[tt]:\n",
    "        for zz in range(len(z)):\n",
    "            c=1\n",
    "            if Xdelta[tt,zz]>0: c=-1\n",
    "            #for k in range(int(Xstep[tt,zz])):\n",
    "            for k in range(1):\n",
    "                stress[zz]=+fit_pronyE((Xi[tt+1,zz]+c*k*10),*paramE)*Tdexi[tt,zz]*10*bmix\n",
    "    else: break\n",
    "\n",
    "print('\\nThermal stress values at different depth [psi]:\\n'+str(stress))\n",
    "print('\\nSteps to compute for 2h stress calculation:\\n'+str(Xstep[0:tt,0]))"
   ]
  },
  {
   "cell_type": "code",
   "execution_count": 20,
   "metadata": {},
   "outputs": [
    {
     "data": {
      "image/png": "[encoded data removed]",
      "text/plain": [
       "<Figure size 432x288 with 1 Axes>"
      ]
     },
     "metadata": {
      "needs_background": "light"
     },
     "output_type": "display_data"
    }
   ],
   "source": [
    "# Comparison w/ Qingwen : GPa > PSI & cm > in\n",
    "plt.plot(stress*145038,z*0.3937008)\n",
    "plt.show()"
   ]
  },
  {
   "cell_type": "code",
   "execution_count": 21,
   "metadata": {},
   "outputs": [
    {
     "name": "stdout",
     "output_type": "stream",
     "text": [
      "True\n"
     ]
    }
   ],
   "source": [
    "# Check on Xdelta values > if all false then any(Xdelta)=False\n",
    "\n",
    "check=np.ones(zz,dtype='bool')\n",
    "\n",
    "Xdelta[6,3]=-5\n",
    "\n",
    "for k in range(zz):\n",
    "    check[k]=any(Xdelta[:,k]<=0)\n",
    "\n",
    "# if all check[k] false, then any(check)=False / if there's 1 Xdelta value <=0, then any(check)=True\n",
    "print(any(check))"
   ]
  },
  {
   "cell_type": "code",
   "execution_count": null,
   "metadata": {},
   "outputs": [],
   "source": []
  }
 ],
 "metadata": {
  "kernelspec": {
   "display_name": "Python 3",
   "language": "python",
   "name": "python3"
  },
  "language_info": {
   "codemirror_mode": {
    "name": "ipython",
    "version": 3
   },
   "file_extension": ".py",
   "mimetype": "text/x-python",
   "name": "python",
   "nbconvert_exporter": "python",
   "pygments_lexer": "ipython3",
   "version": "3.8.5"
  }
 },
 "nbformat": 4,
 "nbformat_minor": 4
}
